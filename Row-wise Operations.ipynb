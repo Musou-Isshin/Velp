{
 "cells": [
  {
   "cell_type": "markdown",
   "id": "6ce18d55",
   "metadata": {},
   "source": [
    "# `byrow()` in InMemoryDatasets.jl"
   ]
  },
  {
   "cell_type": "markdown",
   "id": "164d96e0",
   "metadata": {},
   "source": [
    "### byrow function is a high-performance, multi-threaded function for row-wise operations. It is designed to make tasks like summing up each row simple, efficient, and lightning fast.  \n",
    "### Generally speaking, the `byrow` function can automatically apply the function we specified to each row of data set, which is also the source of its name.   \n",
    "### Let's start with an example, first we need to include the package."
   ]
  },
  {
   "cell_type": "code",
   "execution_count": 2,
   "id": "4ea41827",
   "metadata": {},
   "outputs": [],
   "source": [
    "using InMemoryDatasets"
   ]
  },
  {
   "cell_type": "code",
   "execution_count": null,
   "id": "181951fd",
   "metadata": {},
   "outputs": [],
   "source": [
    "ds1 = Dataset(var1 = [1, -2, 4], var2 = [-1, 3, 5], var3 = [2, -4, 1])"
   ]
  },
  {
   "cell_type": "markdown",
   "id": "9655df80",
   "metadata": {},
   "source": [
    "### Assume we want to calculate the sum of each row, which is quite useful right, generally speaking, we thought of the sum function first, but the sum function can only deal with a matrix or an array, so we need to convert the dataset into a matrix. "
   ]
  },
  {
   "cell_type": "code",
   "execution_count": null,
   "id": "8ffef809",
   "metadata": {},
   "outputs": [],
   "source": [
    "sum(Matrix(ds1),dims = 2)"
   ]
  },
  {
   "cell_type": "markdown",
   "id": "1f02e5dd",
   "metadata": {},
   "source": [
    "### But if we use byrow(), it can directly apply sum() to each row. "
   ]
  },
  {
   "cell_type": "code",
   "execution_count": null,
   "id": "613a4d2b",
   "metadata": {},
   "outputs": [],
   "source": [
    "byrow(ds1, sum,1:3)"
   ]
  },
  {
   "cell_type": "markdown",
   "id": "9e6bced0",
   "metadata": {},
   "source": [
    "### But it can save time and memory space."
   ]
  },
  {
   "cell_type": "markdown",
   "id": "64e63574",
   "metadata": {},
   "source": [
    "### Also since each column has its own name, we can just use its name to represent them in function"
   ]
  },
  {
   "cell_type": "code",
   "execution_count": null,
   "id": "725f10e8",
   "metadata": {},
   "outputs": [],
   "source": [
    "byrow(ds1,sum,[:var1, :var2, :var3])"
   ]
  },
  {
   "cell_type": "markdown",
   "id": "a28f7244",
   "metadata": {},
   "source": [
    "## Optimised operations"
   ]
  },
  {
   "cell_type": "markdown",
   "id": "76b9b8a5",
   "metadata": {},
   "source": [
    "### The common syntax of `byrow` is byrow, dataset, function name, columns we want to select, and two options we can choose, by and threads, and by default threads equals to true.\n",
    "### The `by` keyword is for specifying a function to call on each value before calling the function to aggregate the result, and `threads = true` makes `byrow` to exploit all cores available to Julia for performing the computations.\n",
    "### Also we have an example"
   ]
  },
  {
   "cell_type": "code",
   "execution_count": 3,
   "id": "21bbf7c7",
   "metadata": {},
   "outputs": [
    {
     "data": {
      "text/html": [
       "<table class=\"data-set\"><thead><tr><th></th><th>g</th><th>x1_int</th><th>x2_int</th><th>x1_float</th><th>x2_float</th><th>x3_float</th></tr><th></th><th>identity</th><th>identity</th><th>identity</th><th>identity</th><th>identity</th><th>identity</th></tr><tr><th></th><th title=\"Union{Missing, Int64}\">Int64?</th><th title=\"Union{Missing, Int64}\">Int64?</th><th title=\"Union{Missing, Int64}\">Int64?</th><th title=\"Union{Missing, Float64}\">Float64?</th><th title=\"Union{Missing, Float64}\">Float64?</th><th title=\"Union{Missing, Float64}\">Float64?</th></tr></thead><tbody><p>5 rows × 6 columns</p><tr><th>1</th><td>1</td><td>0</td><td>3</td><td>1.2</td><td><em>missing</em></td><td><em>missing</em></td></tr><tr><th>2</th><td>1</td><td>0</td><td>2</td><td><em>missing</em></td><td><em>missing</em></td><td><em>missing</em></td></tr><tr><th>3</th><td>1</td><td>1</td><td>1</td><td>-1.0</td><td>3.0</td><td>-1.4</td></tr><tr><th>4</th><td>2</td><td><em>missing</em></td><td>3</td><td>2.3</td><td><em>missing</em></td><td>3.0</td></tr><tr><th>5</th><td>2</td><td>2</td><td>-2</td><td>10.0</td><td><em>missing</em></td><td>-100.0</td></tr></tbody></table>"
      ],
      "text/latex": [
       "\\begin{tabular}{r|cccccc}\n",
       "\t& g & x1\\_int & x2\\_int & x1\\_float & x2\\_float & x3\\_float\\\\\n",
       "\t\\hline\n",
       "\t& identity & identity & identity & identity & identity & identity\\\\\n",
       "\t\\hline\n",
       "\t& Int64? & Int64? & Int64? & Float64? & Float64? & Float64?\\\\\n",
       "\t\\hline\n",
       "\t1 & 1 & 0 & 3 & 1.2 & \\emph{missing} & \\emph{missing} \\\\\n",
       "\t2 & 1 & 0 & 2 & \\emph{missing} & \\emph{missing} & \\emph{missing} \\\\\n",
       "\t3 & 1 & 1 & 1 & -1.0 & 3.0 & -1.4 \\\\\n",
       "\t4 & 2 & \\emph{missing} & 3 & 2.3 & \\emph{missing} & 3.0 \\\\\n",
       "\t5 & 2 & 2 & -2 & 10.0 & \\emph{missing} & -100.0 \\\\\n",
       "\\end{tabular}\n"
      ],
      "text/plain": [
       "\u001b[1m5×6 Dataset\u001b[0m\n",
       "\u001b[1m Row \u001b[0m│\u001b[1m g        \u001b[0m\u001b[1m x1_int   \u001b[0m\u001b[1m x2_int   \u001b[0m\u001b[1m x1_float  \u001b[0m\u001b[1m x2_float  \u001b[0m\u001b[1m x3_float  \u001b[0m\n",
       "\u001b[1m     \u001b[0m│\u001b[90m identity \u001b[0m\u001b[90m identity \u001b[0m\u001b[90m identity \u001b[0m\u001b[90m identity  \u001b[0m\u001b[90m identity  \u001b[0m\u001b[90m identity  \u001b[0m\n",
       "\u001b[1m     \u001b[0m│\u001b[90m Int64?   \u001b[0m\u001b[90m Int64?   \u001b[0m\u001b[90m Int64?   \u001b[0m\u001b[90m Float64?  \u001b[0m\u001b[90m Float64?  \u001b[0m\u001b[90m Float64?  \u001b[0m\n",
       "─────┼───────────────────────────────────────────────────────────────\n",
       "   1 │        1         0         3        1.2 \u001b[90m missing   \u001b[0m\u001b[90m missing   \u001b[0m\n",
       "   2 │        1         0         2 \u001b[90m missing   \u001b[0m\u001b[90m missing   \u001b[0m\u001b[90m missing   \u001b[0m\n",
       "   3 │        1         1         1       -1.0        3.0       -1.4\n",
       "   4 │        2 \u001b[90m  missing \u001b[0m        3        2.3 \u001b[90m missing   \u001b[0m       3.0\n",
       "   5 │        2         2        -2       10.0 \u001b[90m missing   \u001b[0m    -100.0"
      ]
     },
     "execution_count": 3,
     "metadata": {},
     "output_type": "execute_result"
    }
   ],
   "source": [
    "ds2 = Dataset(g = [1, 1, 1, 2, 2],\n",
    "                    x1_int = [0, 0, 1, missing, 2],\n",
    "                    x2_int = [3, 2, 1, 3, -2],\n",
    "                    x1_float = [1.2, missing, -1.0, 2.3, 10],\n",
    "                    x2_float = [missing, missing, 3.0, missing, missing],\n",
    "                    x3_float = [missing, missing, -1.4, 3.0, -100.0])"
   ]
  },
  {
   "cell_type": "markdown",
   "id": "87aa709e",
   "metadata": {},
   "source": [
    "### missing which means a missing value, we don't know the actual value here and absolutely we can't make a fake value, so we just use missing to represent that. "
   ]
  },
  {
   "cell_type": "markdown",
   "id": "dfeecf76",
   "metadata": {},
   "source": [
    "### Let's say we want to calculate the average of the absolute values of all numbers in each row.\n",
    "### Suppose we only need to calculate the average value. It's quite simple, just use the mean function. "
   ]
  },
  {
   "cell_type": "code",
   "execution_count": 4,
   "id": "c438ea0f",
   "metadata": {},
   "outputs": [
    {
     "data": {
      "text/plain": [
       "5-element Vector{Float64}:\n",
       "   1.3\n",
       "   1.0\n",
       "   0.6\n",
       "   2.575\n",
       " -17.6"
      ]
     },
     "execution_count": 4,
     "metadata": {},
     "output_type": "execute_result"
    }
   ],
   "source": [
    "byrow(ds2,mean)"
   ]
  },
  {
   "cell_type": "markdown",
   "id": "dea07e68",
   "metadata": {},
   "source": [
    "### Perhaps you have noticed that the previous functions all have at least three parameters. The functions used here only use two parameters. This is because we need to use all the values in a row. When byrow detects that the column name we specified is none, it will use all the columns by default. That is, the functions here are the same as the following two."
   ]
  },
  {
   "cell_type": "code",
   "execution_count": 7,
   "id": "c4464a78",
   "metadata": {},
   "outputs": [
    {
     "data": {
      "text/plain": [
       "5-element Vector{Float64}:\n",
       " 1.3333333333333333\n",
       " 1.0\n",
       " 1.0\n",
       " 2.5\n",
       " 0.6666666666666666"
      ]
     },
     "execution_count": 7,
     "metadata": {},
     "output_type": "execute_result"
    }
   ],
   "source": [
    "byrow(ds2,mean,1:3)"
   ]
  },
  {
   "cell_type": "markdown",
   "id": "ff2eedc5",
   "metadata": {},
   "source": [
    "### A single colon also can represent all columns, or you can use"
   ]
  },
  {
   "cell_type": "code",
   "execution_count": 8,
   "id": "a8dd7309",
   "metadata": {},
   "outputs": [
    {
     "data": {
      "text/plain": [
       "5-element Vector{Float64}:\n",
       "   1.3\n",
       "   1.0\n",
       "   0.6\n",
       "   2.575\n",
       " -17.6"
      ]
     },
     "execution_count": 8,
     "metadata": {},
     "output_type": "execute_result"
    }
   ],
   "source": [
    "byrow(ds2,mean,:)"
   ]
  },
  {
   "cell_type": "markdown",
   "id": "863ef796",
   "metadata": {},
   "source": [
    "### Then we need to consider taking the absolute value for each number before we take the average, which requires the use of the by keyword. "
   ]
  },
  {
   "cell_type": "code",
   "execution_count": 9,
   "id": "8c744219",
   "metadata": {},
   "outputs": [
    {
     "data": {
      "text/plain": [
       "5-element Vector{Float64}:\n",
       "  1.3\n",
       "  1.0\n",
       "  1.4000000000000001\n",
       "  2.575\n",
       " 23.2"
      ]
     },
     "execution_count": 9,
     "metadata": {},
     "output_type": "execute_result"
    }
   ],
   "source": [
    "byrow(ds2,mean,by = abs)"
   ]
  },
  {
   "cell_type": "markdown",
   "id": "6b5dc528",
   "metadata": {},
   "source": [
    "### Using by equals to abs means before we using the mean function to each row, we use abs to each value first. In this way, we can easily solve this problem."
   ]
  },
  {
   "cell_type": "markdown",
   "id": "9e40533a",
   "metadata": {},
   "source": [
    "### Sometimes when we have a dataset, we want to find some interesting features in this dataset like is there any special value in the dataset? byrow also can help us to do this. For example, to find rows in which all their values are greater than 0 in the first to three columns we can use the following code,"
   ]
  },
  {
   "cell_type": "code",
   "execution_count": null,
   "id": "ce4cb9ef",
   "metadata": {},
   "outputs": [],
   "source": [
    "byrow(ds2, all, 1:3, by = x->isless(0,x))"
   ]
  },
  {
   "cell_type": "markdown",
   "id": "4ebe1277",
   "metadata": {},
   "source": [
    "### And the result shows us the third and forth row are what we want"
   ]
  },
  {
   "cell_type": "markdown",
   "id": "59e1bf32",
   "metadata": {},
   "source": [
    "### You should note that in julia, missing is always greater than zero, so isless(0, missing) is true."
   ]
  },
  {
   "cell_type": "markdown",
   "id": "c0132394",
   "metadata": {},
   "source": [
    "### Also if you want to find rows which contain at least one missing value in any of the columns we can use the following code,"
   ]
  },
  {
   "cell_type": "code",
   "execution_count": null,
   "id": "632e360d",
   "metadata": {},
   "outputs": [],
   "source": [
    "byrow(ds2,any,by=ismissing)"
   ]
  },
  {
   "cell_type": "markdown",
   "id": "31fddcba",
   "metadata": {},
   "source": [
    "### For byrow, there are many different optimised operations, if you want to know how to use other interesting optimised operations, we can just use help"
   ]
  },
  {
   "cell_type": "code",
   "execution_count": 15,
   "id": "278e216a",
   "metadata": {},
   "outputs": [
    {
     "data": {
      "text/latex": [
       "\\begin{verbatim}\n",
       "byrow(ds::AbstractDataset, select, cols; [with, threads])\n",
       "\\end{verbatim}\n",
       "Select value of \\texttt{with} among \\texttt{cols}. The \\texttt{with} must be a vector of column names(\\texttt{Symbol} or \\texttt{String}) or column index (relative to column position in \\texttt{cols}) or a column name which contains this information.\n",
       "\n",
       "For heterogeneous column types, \\texttt{byrow} use \\texttt{promote\\_type} for the output. If the column select doesn't exist among \\texttt{cols}, \\texttt{byrow} returns \\texttt{missing}.\n",
       "\n",
       "Passing \\texttt{threads = false} disables multithreaded computations.\n",
       "\n",
       "See \\href{@ref}{\\texttt{byrow(findfirst)}}, \\href{@ref}{\\texttt{byrow(findlast)}}\n",
       "\n",
       "\\section{Examples}\n",
       "\\begin{verbatim}\n",
       "julia> ds = Dataset(x1 = [1,2,3,4],\n",
       "            x2 = [1.5,6.5,3.4,2.4],\n",
       "            x3 = [true, false, true, false],\n",
       "            y1 = [\"x2\", \"x1\", missing, \"x2\"],\n",
       "            y2 = [:x2, :x1, missing, :x2],\n",
       "            y3 = [3,1,1,2])\n",
       "4×6 Dataset\n",
       " Row │ x1        x2        x3        y1        y2        y3\n",
       "     │ identity  identity  identity  identity  identity  identity\n",
       "     │ Int64?    Float64?  Bool?     String?   Symbol?   Int64?\n",
       "─────┼────────────────────────────────────────────────────────────\n",
       "   1 │        1       1.5      true  x2        x2               3\n",
       "   2 │        2       6.5     false  x1        x1               1\n",
       "   3 │        3       3.4      true  missing   missing          1\n",
       "   4 │        4       2.4     false  x2        x2               2\n",
       "\n",
       "julia> byrow(ds, select, 1:2, with = :y1)\n",
       "4-element Vector{Union{Missing, Float64}}:\n",
       " 1.5\n",
       " 2.0\n",
       "  missing\n",
       " 2.4\n",
       "\n",
       "julia> byrow(ds, select, [2,1,3], with = :y3)\n",
       "4-element Vector{Union{Missing, Float64}}:\n",
       " 1.0\n",
       " 6.5\n",
       " 3.4\n",
       " 4.0\n",
       "\n",
       "julia> byrow(ds, select, [2,1,3], with = [3,1,1,2])\n",
       "4-element Vector{Union{Missing, Float64}}:\n",
       " 1.0\n",
       " 6.5\n",
       " 3.4\n",
       " 4.0\n",
       "\n",
       "julia> ds = Dataset(x1 = [1,2,2], x2 = [5,6,7], x3 = [8,9,10])\n",
       "3×3 Dataset\n",
       " Row │ x1        x2        x3\n",
       "     │ identity  identity  identity\n",
       "     │ Int64?    Int64?    Int64?\n",
       "─────┼──────────────────────────────\n",
       "   1 │        1         5         8\n",
       "   2 │        2         6         9\n",
       "   3 │        2         7        10\n",
       "\n",
       "julia> byrow(ds, select, :, with = byrow(ds, findfirst, :, by = isodd))\n",
       "3-element Vector{Union{Missing, Int64}}:\n",
       " 1\n",
       " 9\n",
       " 7\n",
       "\\end{verbatim}\n"
      ],
      "text/markdown": [
       "```\n",
       "byrow(ds::AbstractDataset, select, cols; [with, threads])\n",
       "```\n",
       "\n",
       "Select value of `with` among `cols`. The `with` must be a vector of column names(`Symbol` or `String`) or column index (relative to column position in `cols`) or a column name which contains this information.\n",
       "\n",
       "For heterogeneous column types, `byrow` use `promote_type` for the output. If the column select doesn't exist among `cols`, `byrow` returns `missing`.\n",
       "\n",
       "Passing `threads = false` disables multithreaded computations.\n",
       "\n",
       "See [`byrow(findfirst)`](@ref), [`byrow(findlast)`](@ref)\n",
       "\n",
       "# Examples\n",
       "\n",
       "```jldoctest\n",
       "julia> ds = Dataset(x1 = [1,2,3,4],\n",
       "            x2 = [1.5,6.5,3.4,2.4],\n",
       "            x3 = [true, false, true, false],\n",
       "            y1 = [\"x2\", \"x1\", missing, \"x2\"],\n",
       "            y2 = [:x2, :x1, missing, :x2],\n",
       "            y3 = [3,1,1,2])\n",
       "4×6 Dataset\n",
       " Row │ x1        x2        x3        y1        y2        y3\n",
       "     │ identity  identity  identity  identity  identity  identity\n",
       "     │ Int64?    Float64?  Bool?     String?   Symbol?   Int64?\n",
       "─────┼────────────────────────────────────────────────────────────\n",
       "   1 │        1       1.5      true  x2        x2               3\n",
       "   2 │        2       6.5     false  x1        x1               1\n",
       "   3 │        3       3.4      true  missing   missing          1\n",
       "   4 │        4       2.4     false  x2        x2               2\n",
       "\n",
       "julia> byrow(ds, select, 1:2, with = :y1)\n",
       "4-element Vector{Union{Missing, Float64}}:\n",
       " 1.5\n",
       " 2.0\n",
       "  missing\n",
       " 2.4\n",
       "\n",
       "julia> byrow(ds, select, [2,1,3], with = :y3)\n",
       "4-element Vector{Union{Missing, Float64}}:\n",
       " 1.0\n",
       " 6.5\n",
       " 3.4\n",
       " 4.0\n",
       "\n",
       "julia> byrow(ds, select, [2,1,3], with = [3,1,1,2])\n",
       "4-element Vector{Union{Missing, Float64}}:\n",
       " 1.0\n",
       " 6.5\n",
       " 3.4\n",
       " 4.0\n",
       "\n",
       "julia> ds = Dataset(x1 = [1,2,2], x2 = [5,6,7], x3 = [8,9,10])\n",
       "3×3 Dataset\n",
       " Row │ x1        x2        x3\n",
       "     │ identity  identity  identity\n",
       "     │ Int64?    Int64?    Int64?\n",
       "─────┼──────────────────────────────\n",
       "   1 │        1         5         8\n",
       "   2 │        2         6         9\n",
       "   3 │        2         7        10\n",
       "\n",
       "julia> byrow(ds, select, :, with = byrow(ds, findfirst, :, by = isodd))\n",
       "3-element Vector{Union{Missing, Int64}}:\n",
       " 1\n",
       " 9\n",
       " 7\n",
       "```\n"
      ],
      "text/plain": [
       "\u001b[36m  byrow(ds::AbstractDataset, select, cols; [with, threads])\u001b[39m\n",
       "\n",
       "  Select value of \u001b[36mwith\u001b[39m among \u001b[36mcols\u001b[39m. The \u001b[36mwith\u001b[39m must be a vector of column\n",
       "  names(\u001b[36mSymbol\u001b[39m or \u001b[36mString\u001b[39m) or column index (relative to column position in\n",
       "  \u001b[36mcols\u001b[39m) or a column name which contains this information.\n",
       "\n",
       "  For heterogeneous column types, \u001b[36mbyrow\u001b[39m use \u001b[36mpromote_type\u001b[39m for the output. If\n",
       "  the column select doesn't exist among \u001b[36mcols\u001b[39m, \u001b[36mbyrow\u001b[39m returns \u001b[36mmissing\u001b[39m.\n",
       "\n",
       "  Passing \u001b[36mthreads = false\u001b[39m disables multithreaded computations.\n",
       "\n",
       "  See \u001b[36mbyrow(findfirst)\u001b[39m, \u001b[36mbyrow(findlast)\u001b[39m\n",
       "\n",
       "\u001b[1m  Examples\u001b[22m\n",
       "\u001b[1m  ≡≡≡≡≡≡≡≡≡≡\u001b[22m\n",
       "\n",
       "\u001b[36m  julia> ds = Dataset(x1 = [1,2,3,4],\u001b[39m\n",
       "\u001b[36m              x2 = [1.5,6.5,3.4,2.4],\u001b[39m\n",
       "\u001b[36m              x3 = [true, false, true, false],\u001b[39m\n",
       "\u001b[36m              y1 = [\"x2\", \"x1\", missing, \"x2\"],\u001b[39m\n",
       "\u001b[36m              y2 = [:x2, :x1, missing, :x2],\u001b[39m\n",
       "\u001b[36m              y3 = [3,1,1,2])\u001b[39m\n",
       "\u001b[36m  4×6 Dataset\u001b[39m\n",
       "\u001b[36m   Row │ x1        x2        x3        y1        y2        y3\u001b[39m\n",
       "\u001b[36m       │ identity  identity  identity  identity  identity  identity\u001b[39m\n",
       "\u001b[36m       │ Int64?    Float64?  Bool?     String?   Symbol?   Int64?\u001b[39m\n",
       "\u001b[36m  ─────┼────────────────────────────────────────────────────────────\u001b[39m\n",
       "\u001b[36m     1 │        1       1.5      true  x2        x2               3\u001b[39m\n",
       "\u001b[36m     2 │        2       6.5     false  x1        x1               1\u001b[39m\n",
       "\u001b[36m     3 │        3       3.4      true  missing   missing          1\u001b[39m\n",
       "\u001b[36m     4 │        4       2.4     false  x2        x2               2\u001b[39m\n",
       "\u001b[36m  \u001b[39m\n",
       "\u001b[36m  julia> byrow(ds, select, 1:2, with = :y1)\u001b[39m\n",
       "\u001b[36m  4-element Vector{Union{Missing, Float64}}:\u001b[39m\n",
       "\u001b[36m   1.5\u001b[39m\n",
       "\u001b[36m   2.0\u001b[39m\n",
       "\u001b[36m    missing\u001b[39m\n",
       "\u001b[36m   2.4\u001b[39m\n",
       "\u001b[36m  \u001b[39m\n",
       "\u001b[36m  julia> byrow(ds, select, [2,1,3], with = :y3)\u001b[39m\n",
       "\u001b[36m  4-element Vector{Union{Missing, Float64}}:\u001b[39m\n",
       "\u001b[36m   1.0\u001b[39m\n",
       "\u001b[36m   6.5\u001b[39m\n",
       "\u001b[36m   3.4\u001b[39m\n",
       "\u001b[36m   4.0\u001b[39m\n",
       "\u001b[36m  \u001b[39m\n",
       "\u001b[36m  julia> byrow(ds, select, [2,1,3], with = [3,1,1,2])\u001b[39m\n",
       "\u001b[36m  4-element Vector{Union{Missing, Float64}}:\u001b[39m\n",
       "\u001b[36m   1.0\u001b[39m\n",
       "\u001b[36m   6.5\u001b[39m\n",
       "\u001b[36m   3.4\u001b[39m\n",
       "\u001b[36m   4.0\u001b[39m\n",
       "\u001b[36m  \u001b[39m\n",
       "\u001b[36m  julia> ds = Dataset(x1 = [1,2,2], x2 = [5,6,7], x3 = [8,9,10])\u001b[39m\n",
       "\u001b[36m  3×3 Dataset\u001b[39m\n",
       "\u001b[36m   Row │ x1        x2        x3\u001b[39m\n",
       "\u001b[36m       │ identity  identity  identity\u001b[39m\n",
       "\u001b[36m       │ Int64?    Int64?    Int64?\u001b[39m\n",
       "\u001b[36m  ─────┼──────────────────────────────\u001b[39m\n",
       "\u001b[36m     1 │        1         5         8\u001b[39m\n",
       "\u001b[36m     2 │        2         6         9\u001b[39m\n",
       "\u001b[36m     3 │        2         7        10\u001b[39m\n",
       "\u001b[36m  \u001b[39m\n",
       "\u001b[36m  julia> byrow(ds, select, :, with = byrow(ds, findfirst, :, by = isodd))\u001b[39m\n",
       "\u001b[36m  3-element Vector{Union{Missing, Int64}}:\u001b[39m\n",
       "\u001b[36m   1\u001b[39m\n",
       "\u001b[36m   9\u001b[39m\n",
       "\u001b[36m   7\u001b[39m"
      ]
     },
     "execution_count": 15,
     "metadata": {},
     "output_type": "execute_result"
    }
   ],
   "source": [
    "?byrow(select)"
   ]
  },
  {
   "cell_type": "markdown",
   "id": "6a9a2da8",
   "metadata": {},
   "source": [
    "### And we can see, there is the common syntax of byrow(select) and the explanation of each parameter, also there are many examples."
   ]
  },
  {
   "cell_type": "code",
   "execution_count": 14,
   "id": "11dc1fe5",
   "metadata": {},
   "outputs": [
    {
     "data": {
      "text/plain": [
       "5-element Vector{Union{Missing, Float64}}:\n",
       "  1.2\n",
       "   missing\n",
       " -1.4\n",
       "  3.0\n",
       " 10.0"
      ]
     },
     "execution_count": 14,
     "metadata": {},
     "output_type": "execute_result"
    }
   ],
   "source": [
    "byrow(ds2,select, 4:6,with = [1,2,3,3,1])"
   ]
  },
  {
   "cell_type": "markdown",
   "id": "b868f964",
   "metadata": {},
   "source": [
    "## User defined operations"
   ]
  },
  {
   "cell_type": "markdown",
   "id": "6157f5d0",
   "metadata": {},
   "source": [
    "### In some cases, you may feel that these built-in functions cannot meet your unique needs. In this case, you can write your own function for byrow ().\n",
    "### We just need to make sure your function return a single value, byrow treats each row as a vector, thus your function must accept a vector and return a single value."
   ]
  },
  {
   "cell_type": "code",
   "execution_count": null,
   "id": "ec8feb21",
   "metadata": {},
   "outputs": [],
   "source": []
  },
  {
   "cell_type": "markdown",
   "id": "12391e8b",
   "metadata": {},
   "source": [
    "### And our function is "
   ]
  },
  {
   "cell_type": "code",
   "execution_count": null,
   "id": "cb55b46a",
   "metadata": {},
   "outputs": [],
   "source": []
  },
  {
   "cell_type": "markdown",
   "id": "d3a6a556",
   "metadata": {},
   "source": [
    "### Then put it in byrow,"
   ]
  },
  {
   "cell_type": "code",
   "execution_count": null,
   "id": "51847b81",
   "metadata": {},
   "outputs": [],
   "source": []
  },
  {
   "cell_type": "markdown",
   "id": "437babc3",
   "metadata": {},
   "source": [
    "### Then we can get the result, also, we mentioned before that the function can accept a tuple, so we can re-build our function to accept a tuple"
   ]
  },
  {
   "cell_type": "code",
   "execution_count": null,
   "id": "18ebe62d",
   "metadata": {},
   "outputs": [],
   "source": []
  },
  {
   "cell_type": "markdown",
   "id": "cb94395a",
   "metadata": {},
   "source": [
    "### And then put it to byrow,"
   ]
  },
  {
   "cell_type": "code",
   "execution_count": null,
   "id": "65417713",
   "metadata": {},
   "outputs": [],
   "source": [
    "byrow(ds3, f2, (:var1,:var2,:var3))"
   ]
  },
  {
   "cell_type": "markdown",
   "id": "d786c713",
   "metadata": {},
   "source": [
    "## Special operations"
   ]
  },
  {
   "cell_type": "markdown",
   "id": "694a7bc5",
   "metadata": {},
   "source": [
    "### `byrow` also supports a few optimised operations which return a vector of values for each row."
   ]
  },
  {
   "cell_type": "markdown",
   "id": "3ede7626",
   "metadata": {},
   "source": [
    "### The main difference between these operations and the previous operations is that these operations return a data set with the corresponding row that has been updated with the operation."
   ]
  },
  {
   "cell_type": "code",
   "execution_count": null,
   "id": "42562b09",
   "metadata": {},
   "outputs": [],
   "source": [
    "ds4 = Dataset(x1 = [missing, 2, 1], x2 = [1, missing, missing], y = [4,5,3])"
   ]
  },
  {
   "cell_type": "markdown",
   "id": "047166b3",
   "metadata": {},
   "source": [
    "### Sometime we want to calculate the cumulative sum for each row, lets just use cumulative function to do this"
   ]
  },
  {
   "cell_type": "code",
   "execution_count": null,
   "id": "0b834e09",
   "metadata": {},
   "outputs": [],
   "source": [
    "byrow(ds4, cumsum, :)"
   ]
  },
  {
   "cell_type": "markdown",
   "id": "b21152c0",
   "metadata": {},
   "source": [
    "### We can see unlike the result given by previous operations, the cumsum return a dataset here, we also have another example to help you understand. "
   ]
  },
  {
   "cell_type": "markdown",
   "id": "718ab855",
   "metadata": {},
   "source": [
    "### Assume we want to fill all the missing value in first and second columns using the third columns. we just use fill function to fill all the missing value.\n",
    "### Which means we will fill the missing data by using y column."
   ]
  },
  {
   "cell_type": "code",
   "execution_count": null,
   "id": "78ae45d7",
   "metadata": {},
   "outputs": [],
   "source": [
    "ds5 = byrow(ds4, fill!, 1:2, with = :y)"
   ]
  },
  {
   "cell_type": "code",
   "execution_count": null,
   "id": "a049c12a",
   "metadata": {},
   "outputs": [],
   "source": [
    "ds4"
   ]
  },
  {
   "cell_type": "markdown",
   "id": "ad5d3d77",
   "metadata": {},
   "source": [
    "### The important thing is that for the operations with ! the updated version of the original data set is returned and for the operations without ! a modified copy of the original data set is returned. This is suitable for most functions in julia."
   ]
  },
  {
   "cell_type": "markdown",
   "id": "da39ec03",
   "metadata": {},
   "source": [
    "### In some cases, we want to convert a column to another type, like we want to change column x1 in ds4 which is Int to float, we can use byrow combine with modify to do this."
   ]
  },
  {
   "cell_type": "code",
   "execution_count": null,
   "id": "3ef53071",
   "metadata": {},
   "outputs": [],
   "source": [
    "modify!(ds4, :x1 =>byrow(Float64))"
   ]
  },
  {
   "cell_type": "markdown",
   "id": "8d91d48e",
   "metadata": {},
   "source": [
    "### The modify function can modify columns of a data set, when a single column is passed to byrow, modify modifies the passed column. Also if you want to learn more about modify, you can just get some help from Julia, just type ?modify"
   ]
  },
  {
   "cell_type": "code",
   "execution_count": null,
   "id": "286a87fb",
   "metadata": {},
   "outputs": [],
   "source": [
    "?modify!"
   ]
  },
  {
   "cell_type": "markdown",
   "id": "a8faad80",
   "metadata": {},
   "source": [
    "### As you can see, there are many useful information including examples to help you understand this function."
   ]
  },
  {
   "cell_type": "markdown",
   "id": "7f7fc267",
   "metadata": {},
   "source": [
    "### From the above explanation, I believe you can have a comprehensive understanding of this function. If you still have doubts about it, you can find relevant content on InMemoryDatasets official documents at any time. Thank you for watching this video, see you next time."
   ]
  }
 ],
 "metadata": {
  "kernelspec": {
   "display_name": "Julia 1.8.2",
   "language": "julia",
   "name": "julia-1.8"
  },
  "language_info": {
   "file_extension": ".jl",
   "mimetype": "application/julia",
   "name": "julia",
   "version": "1.8.2"
  }
 },
 "nbformat": 4,
 "nbformat_minor": 5
}
