{
 "cells": [
  {
   "cell_type": "markdown",
   "id": "7aa9403c",
   "metadata": {},
   "source": [
    "# Reshape Datasets"
   ]
  },
  {
   "cell_type": "markdown",
   "id": "8fb89595",
   "metadata": {},
   "source": [
    "### Hello, everyone, welcome to my video. In this video, I will introduce a very important function in InMemoryDatasets package, which is `transpose` function. "
   ]
  },
  {
   "cell_type": "markdown",
   "id": "c4fef7fd",
   "metadata": {},
   "source": [
    "## Introduction"
   ]
  },
  {
   "cell_type": "markdown",
   "id": "06b33883",
   "metadata": {},
   "source": [
    "### As data scientists, we know that data does not always come to us with the most desirable format that’s ready for analysis or visualization. Therefore, we need to reshape it as we want it to be for subsequent operations"
   ]
  },
  {
   "cell_type": "markdown",
   "id": "e3198a47",
   "metadata": {},
   "source": [
    "### In InMemoryDatasets package, the reshaping of a data set is done by the `transpose` function. In the simple case, you can think about the data set as a matrix, and `transpose` simply flips it over its diagonal by switching the row and column indices of it."
   ]
  },
  {
   "cell_type": "markdown",
   "id": "1747a8a3",
   "metadata": {},
   "source": [
    "## Simple Case"
   ]
  },
  {
   "cell_type": "markdown",
   "id": "e7238245",
   "metadata": {},
   "source": [
    "### Transpose means switching the row and column indices of a matrix, and in InMemoryDatasets when we select a set of columns, we practically have a matrix shape array of data, thus, its transposition means switching the row and column indices of it. Thus, in the simplest form, the syntax of the `transpose` function is `transpose(ds, cols)`, where `ds` is the input data set and `cols` is any kind of column selector which specifies the selected columns for transposing. Since each column of a data set has also a name, `transpose` creates a new column in the output data set which shows those names from the input data set."
   ]
  },
  {
   "cell_type": "markdown",
   "id": "859d2802",
   "metadata": {},
   "source": [
    "### We have an example:"
   ]
  },
  {
   "cell_type": "code",
   "execution_count": 4,
   "id": "303a63d2",
   "metadata": {},
   "outputs": [],
   "source": [
    "using InMemoryDatasets"
   ]
  },
  {
   "cell_type": "code",
   "execution_count": 5,
   "id": "7e270805",
   "metadata": {},
   "outputs": [
    {
     "data": {
      "text/html": [
       "<table class=\"data-set\"><thead><tr><th></th><th>x1</th><th>x2</th></tr><th></th><th>identity</th><th>identity</th></tr><tr><th></th><th title=\"Union{Missing, Int64}\">Int64?</th><th title=\"Union{Missing, Int64}\">Int64?</th></tr></thead><tbody><p>4 rows × 2 columns</p><tr><th>1</th><td>1</td><td>1</td></tr><tr><th>2</th><td>2</td><td>4</td></tr><tr><th>3</th><td>3</td><td>9</td></tr><tr><th>4</th><td>4</td><td>16</td></tr></tbody></table>"
      ],
      "text/latex": [
       "\\begin{tabular}{r|cc}\n",
       "\t& x1 & x2\\\\\n",
       "\t\\hline\n",
       "\t& identity & identity\\\\\n",
       "\t\\hline\n",
       "\t& Int64? & Int64?\\\\\n",
       "\t\\hline\n",
       "\t1 & 1 & 1 \\\\\n",
       "\t2 & 2 & 4 \\\\\n",
       "\t3 & 3 & 9 \\\\\n",
       "\t4 & 4 & 16 \\\\\n",
       "\\end{tabular}\n"
      ],
      "text/plain": [
       "\u001b[1m4×2 Dataset\u001b[0m\n",
       "\u001b[1m Row \u001b[0m│\u001b[1m x1       \u001b[0m\u001b[1m x2       \u001b[0m\n",
       "\u001b[1m     \u001b[0m│\u001b[90m identity \u001b[0m\u001b[90m identity \u001b[0m\n",
       "\u001b[1m     \u001b[0m│\u001b[90m Int64?   \u001b[0m\u001b[90m Int64?   \u001b[0m\n",
       "─────┼────────────────────\n",
       "   1 │        1         1\n",
       "   2 │        2         4\n",
       "   3 │        3         9\n",
       "   4 │        4        16"
      ]
     },
     "execution_count": 5,
     "metadata": {},
     "output_type": "execute_result"
    }
   ],
   "source": [
    "ds1 = Dataset(x1 = [1,2,3,4], x2 = [1,4,9,16])"
   ]
  },
  {
   "cell_type": "markdown",
   "id": "632cf72e",
   "metadata": {},
   "source": [
    "### And then we just use transpose to flips it over"
   ]
  },
  {
   "cell_type": "code",
   "execution_count": 6,
   "id": "7bc99deb",
   "metadata": {},
   "outputs": [
    {
     "data": {
      "text/html": [
       "<table class=\"data-set\"><thead><tr><th></th><th>_variables_</th><th>_c1</th><th>_c2</th><th>_c3</th><th>_c4</th></tr><th></th><th>identity</th><th>identity</th><th>identity</th><th>identity</th><th>identity</th></tr><tr><th></th><th title=\"Union{Missing, String}\">String?</th><th title=\"Union{Missing, Int64}\">Int64?</th><th title=\"Union{Missing, Int64}\">Int64?</th><th title=\"Union{Missing, Int64}\">Int64?</th><th title=\"Union{Missing, Int64}\">Int64?</th></tr></thead><tbody><p>2 rows × 5 columns</p><tr><th>1</th><td>x1</td><td>1</td><td>2</td><td>3</td><td>4</td></tr><tr><th>2</th><td>x2</td><td>1</td><td>4</td><td>9</td><td>16</td></tr></tbody></table>"
      ],
      "text/latex": [
       "\\begin{tabular}{r|ccccc}\n",
       "\t& \\_variables\\_ & \\_c1 & \\_c2 & \\_c3 & \\_c4\\\\\n",
       "\t\\hline\n",
       "\t& identity & identity & identity & identity & identity\\\\\n",
       "\t\\hline\n",
       "\t& String? & Int64? & Int64? & Int64? & Int64?\\\\\n",
       "\t\\hline\n",
       "\t1 & x1 & 1 & 2 & 3 & 4 \\\\\n",
       "\t2 & x2 & 1 & 4 & 9 & 16 \\\\\n",
       "\\end{tabular}\n"
      ],
      "text/plain": [
       "\u001b[1m2×5 Dataset\u001b[0m\n",
       "\u001b[1m Row \u001b[0m│\u001b[1m _variables_ \u001b[0m\u001b[1m _c1      \u001b[0m\u001b[1m _c2      \u001b[0m\u001b[1m _c3      \u001b[0m\u001b[1m _c4      \u001b[0m\n",
       "\u001b[1m     \u001b[0m│\u001b[90m identity    \u001b[0m\u001b[90m identity \u001b[0m\u001b[90m identity \u001b[0m\u001b[90m identity \u001b[0m\u001b[90m identity \u001b[0m\n",
       "\u001b[1m     \u001b[0m│\u001b[90m String?     \u001b[0m\u001b[90m Int64?   \u001b[0m\u001b[90m Int64?   \u001b[0m\u001b[90m Int64?   \u001b[0m\u001b[90m Int64?   \u001b[0m\n",
       "─────┼─────────────────────────────────────────────────────\n",
       "   1 │ x1                  1         2         3         4\n",
       "   2 │ x2                  1         4         9        16"
      ]
     },
     "execution_count": 6,
     "metadata": {},
     "output_type": "execute_result"
    }
   ],
   "source": [
    "transpose(ds1, 1:2)"
   ]
  },
  {
   "cell_type": "markdown",
   "id": "af8a3e49",
   "metadata": {},
   "source": [
    "### We can see the rows of the orignal data set haven't got names, thus, InMemoryDatasets uses automatic name generation to produce the names for the transposed columns of the output data set.  User can supply a custom function for generating the names of the transposed columns by using the keyword argument `renamecolid`, which by default is set as` i -> \"_c\" * string(i)` where `i` is the sequence of columns."
   ]
  },
  {
   "cell_type": "markdown",
   "id": "0982b718",
   "metadata": {},
   "source": [
    "### We also have an example here to show how to use `renamecolid`"
   ]
  },
  {
   "cell_type": "code",
   "execution_count": 8,
   "id": "695850f4",
   "metadata": {},
   "outputs": [
    {
     "data": {
      "text/html": [
       "<table class=\"data-set\"><thead><tr><th></th><th>_variables_</th><th>_COLUMN_1</th><th>_COLUMN_2</th><th>_COLUMN_3</th><th>_COLUMN_4</th></tr><th></th><th>identity</th><th>identity</th><th>identity</th><th>identity</th><th>identity</th></tr><tr><th></th><th title=\"Union{Missing, String}\">String?</th><th title=\"Union{Missing, Int64}\">Int64?</th><th title=\"Union{Missing, Int64}\">Int64?</th><th title=\"Union{Missing, Int64}\">Int64?</th><th title=\"Union{Missing, Int64}\">Int64?</th></tr></thead><tbody><p>2 rows × 5 columns</p><tr><th>1</th><td>x1</td><td>1</td><td>2</td><td>3</td><td>4</td></tr><tr><th>2</th><td>x2</td><td>1</td><td>4</td><td>9</td><td>16</td></tr></tbody></table>"
      ],
      "text/latex": [
       "\\begin{tabular}{r|ccccc}\n",
       "\t& \\_variables\\_ & \\_COLUMN\\_1 & \\_COLUMN\\_2 & \\_COLUMN\\_3 & \\_COLUMN\\_4\\\\\n",
       "\t\\hline\n",
       "\t& identity & identity & identity & identity & identity\\\\\n",
       "\t\\hline\n",
       "\t& String? & Int64? & Int64? & Int64? & Int64?\\\\\n",
       "\t\\hline\n",
       "\t1 & x1 & 1 & 2 & 3 & 4 \\\\\n",
       "\t2 & x2 & 1 & 4 & 9 & 16 \\\\\n",
       "\\end{tabular}\n"
      ],
      "text/plain": [
       "\u001b[1m2×5 Dataset\u001b[0m\n",
       "\u001b[1m Row \u001b[0m│\u001b[1m _variables_ \u001b[0m\u001b[1m _COLUMN_1 \u001b[0m\u001b[1m _COLUMN_2 \u001b[0m\u001b[1m _COLUMN_3 \u001b[0m\u001b[1m _COLUMN_4 \u001b[0m\n",
       "\u001b[1m     \u001b[0m│\u001b[90m identity    \u001b[0m\u001b[90m identity  \u001b[0m\u001b[90m identity  \u001b[0m\u001b[90m identity  \u001b[0m\u001b[90m identity  \u001b[0m\n",
       "\u001b[1m     \u001b[0m│\u001b[90m String?     \u001b[0m\u001b[90m Int64?    \u001b[0m\u001b[90m Int64?    \u001b[0m\u001b[90m Int64?    \u001b[0m\u001b[90m Int64?    \u001b[0m\n",
       "─────┼─────────────────────────────────────────────────────────\n",
       "   1 │ x1                   1          2          3          4\n",
       "   2 │ x2                   1          4          9         16"
      ]
     },
     "execution_count": 8,
     "metadata": {},
     "output_type": "execute_result"
    }
   ],
   "source": [
    "transpose(ds1, [:x1,:x2], renamecolid = x -> \"_COLUMN_\" * string(x))"
   ]
  },
  {
   "cell_type": "markdown",
   "id": "17beb4bf",
   "metadata": {},
   "source": [
    "###  User can also set the `id` keyword argument to a column in the input data set when the values of the column can be used as the names for the transposed columns in the output data set. "
   ]
  },
  {
   "cell_type": "markdown",
   "id": "c27da45a",
   "metadata": {},
   "source": [
    "### As for example, we need to insert a new column to the orignal dataset"
   ]
  },
  {
   "cell_type": "code",
   "execution_count": 9,
   "id": "74b3bc8d",
   "metadata": {},
   "outputs": [
    {
     "data": {
      "text/html": [
       "<table class=\"data-set\"><thead><tr><th></th><th>id</th><th>x1</th><th>x2</th></tr><th></th><th>identity</th><th>identity</th><th>identity</th></tr><tr><th></th><th title=\"Union{Missing, String}\">String?</th><th title=\"Union{Missing, Int64}\">Int64?</th><th title=\"Union{Missing, Int64}\">Int64?</th></tr></thead><tbody><p>4 rows × 3 columns</p><tr><th>1</th><td>r1</td><td>1</td><td>1</td></tr><tr><th>2</th><td>r2</td><td>2</td><td>4</td></tr><tr><th>3</th><td>r3</td><td>3</td><td>9</td></tr><tr><th>4</th><td>r4</td><td>4</td><td>16</td></tr></tbody></table>"
      ],
      "text/latex": [
       "\\begin{tabular}{r|ccc}\n",
       "\t& id & x1 & x2\\\\\n",
       "\t\\hline\n",
       "\t& identity & identity & identity\\\\\n",
       "\t\\hline\n",
       "\t& String? & Int64? & Int64?\\\\\n",
       "\t\\hline\n",
       "\t1 & r1 & 1 & 1 \\\\\n",
       "\t2 & r2 & 2 & 4 \\\\\n",
       "\t3 & r3 & 3 & 9 \\\\\n",
       "\t4 & r4 & 4 & 16 \\\\\n",
       "\\end{tabular}\n"
      ],
      "text/plain": [
       "\u001b[1m4×3 Dataset\u001b[0m\n",
       "\u001b[1m Row \u001b[0m│\u001b[1m id       \u001b[0m\u001b[1m x1       \u001b[0m\u001b[1m x2       \u001b[0m\n",
       "\u001b[1m     \u001b[0m│\u001b[90m identity \u001b[0m\u001b[90m identity \u001b[0m\u001b[90m identity \u001b[0m\n",
       "\u001b[1m     \u001b[0m│\u001b[90m String?  \u001b[0m\u001b[90m Int64?   \u001b[0m\u001b[90m Int64?   \u001b[0m\n",
       "─────┼──────────────────────────────\n",
       "   1 │ r1               1         1\n",
       "   2 │ r2               2         4\n",
       "   3 │ r3               3         9\n",
       "   4 │ r4               4        16"
      ]
     },
     "execution_count": 9,
     "metadata": {},
     "output_type": "execute_result"
    }
   ],
   "source": [
    "insertcols!(ds1,1,:id => [\"r1\", \"r2\", \"r3\", \"r4\"])"
   ]
  },
  {
   "cell_type": "markdown",
   "id": "38da0b31",
   "metadata": {},
   "source": [
    "### `insertcols!` means insert a column into a data set in place and return the update Dataset. We also can use the `?insertcols!` in Julia to find some useful things. "
   ]
  },
  {
   "cell_type": "code",
   "execution_count": 10,
   "id": "83443f2f",
   "metadata": {},
   "outputs": [
    {
     "name": "stdout",
     "output_type": "stream",
     "text": [
      "search: \u001b[0m\u001b[1mi\u001b[22m\u001b[0m\u001b[1mn\u001b[22m\u001b[0m\u001b[1ms\u001b[22m\u001b[0m\u001b[1me\u001b[22m\u001b[0m\u001b[1mr\u001b[22m\u001b[0m\u001b[1mt\u001b[22m\u001b[0m\u001b[1mc\u001b[22m\u001b[0m\u001b[1mo\u001b[22m\u001b[0m\u001b[1ml\u001b[22m\u001b[0m\u001b[1ms\u001b[22m\u001b[0m\u001b[1m!\u001b[22m\n",
      "\n"
     ]
    },
    {
     "data": {
      "text/latex": [
       "\\begin{verbatim}\n",
       "insertcols!(ds::Dataset[, col], (name=>val)::Pair...;\n",
       "            makeunique::Bool=false)\n",
       "\\end{verbatim}\n",
       "Insert a column into a data set in place. Return the updated \\texttt{Dataset}. If \\texttt{col} is omitted it is set to \\texttt{ncol(ds)+1} (the column is inserted as the last column).\n",
       "\n",
       "\\section{Arguments}\n",
       "\\begin{itemize}\n",
       "\\item \\texttt{ds} : the Dataset to which we want to add columns\n",
       "\n",
       "\n",
       "\\item \\texttt{col} : a position at which we want to insert a column, passed as an integer or a column name (a string or a \\texttt{Symbol}); the column selected with \\texttt{col} and columns following it are shifted to the right in \\texttt{ds} after the operation\n",
       "\n",
       "\n",
       "\\item \\texttt{name} : the name of the new column\n",
       "\n",
       "\n",
       "\\item \\texttt{val} : an \\texttt{AbstractVector} giving the contents of the new column or a value of any type other than \\texttt{AbstractArray} which will be repeated to fill a new vector; As a particular rule a values stored in a \\texttt{Ref} or a \\texttt{0}-dimensional \\texttt{AbstractArray} are unwrapped and treated in the same way.\n",
       "\n",
       "\n",
       "\\item \\texttt{makeunique} : Defines what to do if \\texttt{name} already exists in \\texttt{ds}; if it is \\texttt{false} an error will be thrown; if it is \\texttt{true} a new unique name will be generated by adding a suffix\n",
       "\n",
       "\\end{itemize}\n",
       "If \\texttt{val} is an \\texttt{AbstractRange} then the result of \\texttt{collect(val)} is inserted.\n",
       "\n",
       "\\section{Examples}\n",
       "\\begin{verbatim}\n",
       "julia> ds = Dataset(a=1:3)\n",
       "3×1 Dataset\n",
       " Row │ a\n",
       "     │ identity\n",
       "     │ Int64?\n",
       "─────┼──────────\n",
       "   1 │        1\n",
       "   2 │        2\n",
       "   3 │        3\n",
       "\n",
       "julia> insertcols!(ds, 1, :b => 'a':'c')\n",
       "3×2 Dataset\n",
       " Row │ b         a\n",
       "     │ identity  identity\n",
       "     │ Char?     Int64?\n",
       "─────┼────────────────────\n",
       "   1 │ a                1\n",
       "   2 │ b                2\n",
       "   3 │ c                3\n",
       "\n",
       "julia> insertcols!(ds, 2, :c => 2:4, :c => 3:5, makeunique=true)\n",
       "3×4 Dataset\n",
       " Row │ b         c         c_1       a\n",
       "     │ identity  identity  identity  identity\n",
       "     │ Char?     Int64?    Int64?    Int64?\n",
       "─────┼────────────────────────────────────────\n",
       "   1 │ a                2         3         1\n",
       "   2 │ b                3         4         2\n",
       "   3 │ c                4         5         3\n",
       "\n",
       "\\end{verbatim}\n"
      ],
      "text/markdown": [
       "```\n",
       "insertcols!(ds::Dataset[, col], (name=>val)::Pair...;\n",
       "            makeunique::Bool=false)\n",
       "```\n",
       "\n",
       "Insert a column into a data set in place. Return the updated `Dataset`. If `col` is omitted it is set to `ncol(ds)+1` (the column is inserted as the last column).\n",
       "\n",
       "# Arguments\n",
       "\n",
       "  * `ds` : the Dataset to which we want to add columns\n",
       "  * `col` : a position at which we want to insert a column, passed as an integer or a column name (a string or a `Symbol`); the column selected with `col` and columns following it are shifted to the right in `ds` after the operation\n",
       "  * `name` : the name of the new column\n",
       "  * `val` : an `AbstractVector` giving the contents of the new column or a value of any type other than `AbstractArray` which will be repeated to fill a new vector; As a particular rule a values stored in a `Ref` or a `0`-dimensional `AbstractArray` are unwrapped and treated in the same way.\n",
       "  * `makeunique` : Defines what to do if `name` already exists in `ds`; if it is `false` an error will be thrown; if it is `true` a new unique name will be generated by adding a suffix\n",
       "\n",
       "If `val` is an `AbstractRange` then the result of `collect(val)` is inserted.\n",
       "\n",
       "# Examples\n",
       "\n",
       "```jldoctest\n",
       "julia> ds = Dataset(a=1:3)\n",
       "3×1 Dataset\n",
       " Row │ a\n",
       "     │ identity\n",
       "     │ Int64?\n",
       "─────┼──────────\n",
       "   1 │        1\n",
       "   2 │        2\n",
       "   3 │        3\n",
       "\n",
       "julia> insertcols!(ds, 1, :b => 'a':'c')\n",
       "3×2 Dataset\n",
       " Row │ b         a\n",
       "     │ identity  identity\n",
       "     │ Char?     Int64?\n",
       "─────┼────────────────────\n",
       "   1 │ a                1\n",
       "   2 │ b                2\n",
       "   3 │ c                3\n",
       "\n",
       "julia> insertcols!(ds, 2, :c => 2:4, :c => 3:5, makeunique=true)\n",
       "3×4 Dataset\n",
       " Row │ b         c         c_1       a\n",
       "     │ identity  identity  identity  identity\n",
       "     │ Char?     Int64?    Int64?    Int64?\n",
       "─────┼────────────────────────────────────────\n",
       "   1 │ a                2         3         1\n",
       "   2 │ b                3         4         2\n",
       "   3 │ c                4         5         3\n",
       "\n",
       "```\n"
      ],
      "text/plain": [
       "\u001b[36m  insertcols!(ds::Dataset[, col], (name=>val)::Pair...;\u001b[39m\n",
       "\u001b[36m              makeunique::Bool=false)\u001b[39m\n",
       "\n",
       "  Insert a column into a data set in place. Return the updated \u001b[36mDataset\u001b[39m. If \u001b[36mcol\u001b[39m\n",
       "  is omitted it is set to \u001b[36mncol(ds)+1\u001b[39m (the column is inserted as the last\n",
       "  column).\n",
       "\n",
       "\u001b[1m  Arguments\u001b[22m\n",
       "\u001b[1m  ≡≡≡≡≡≡≡≡≡≡≡\u001b[22m\n",
       "\n",
       "    •  \u001b[36mds\u001b[39m : the Dataset to which we want to add columns\n",
       "\n",
       "    •  \u001b[36mcol\u001b[39m : a position at which we want to insert a column, passed as an\n",
       "       integer or a column name (a string or a \u001b[36mSymbol\u001b[39m); the column\n",
       "       selected with \u001b[36mcol\u001b[39m and columns following it are shifted to the\n",
       "       right in \u001b[36mds\u001b[39m after the operation\n",
       "\n",
       "    •  \u001b[36mname\u001b[39m : the name of the new column\n",
       "\n",
       "    •  \u001b[36mval\u001b[39m : an \u001b[36mAbstractVector\u001b[39m giving the contents of the new column or a\n",
       "       value of any type other than \u001b[36mAbstractArray\u001b[39m which will be repeated\n",
       "       to fill a new vector; As a particular rule a values stored in a\n",
       "       \u001b[36mRef\u001b[39m or a \u001b[36m0\u001b[39m-dimensional \u001b[36mAbstractArray\u001b[39m are unwrapped and treated in\n",
       "       the same way.\n",
       "\n",
       "    •  \u001b[36mmakeunique\u001b[39m : Defines what to do if \u001b[36mname\u001b[39m already exists in \u001b[36mds\u001b[39m; if\n",
       "       it is \u001b[36mfalse\u001b[39m an error will be thrown; if it is \u001b[36mtrue\u001b[39m a new unique\n",
       "       name will be generated by adding a suffix\n",
       "\n",
       "  If \u001b[36mval\u001b[39m is an \u001b[36mAbstractRange\u001b[39m then the result of \u001b[36mcollect(val)\u001b[39m is inserted.\n",
       "\n",
       "\u001b[1m  Examples\u001b[22m\n",
       "\u001b[1m  ≡≡≡≡≡≡≡≡≡≡\u001b[22m\n",
       "\n",
       "\u001b[36m  julia> ds = Dataset(a=1:3)\u001b[39m\n",
       "\u001b[36m  3×1 Dataset\u001b[39m\n",
       "\u001b[36m   Row │ a\u001b[39m\n",
       "\u001b[36m       │ identity\u001b[39m\n",
       "\u001b[36m       │ Int64?\u001b[39m\n",
       "\u001b[36m  ─────┼──────────\u001b[39m\n",
       "\u001b[36m     1 │        1\u001b[39m\n",
       "\u001b[36m     2 │        2\u001b[39m\n",
       "\u001b[36m     3 │        3\u001b[39m\n",
       "\u001b[36m  \u001b[39m\n",
       "\u001b[36m  julia> insertcols!(ds, 1, :b => 'a':'c')\u001b[39m\n",
       "\u001b[36m  3×2 Dataset\u001b[39m\n",
       "\u001b[36m   Row │ b         a\u001b[39m\n",
       "\u001b[36m       │ identity  identity\u001b[39m\n",
       "\u001b[36m       │ Char?     Int64?\u001b[39m\n",
       "\u001b[36m  ─────┼────────────────────\u001b[39m\n",
       "\u001b[36m     1 │ a                1\u001b[39m\n",
       "\u001b[36m     2 │ b                2\u001b[39m\n",
       "\u001b[36m     3 │ c                3\u001b[39m\n",
       "\u001b[36m  \u001b[39m\n",
       "\u001b[36m  julia> insertcols!(ds, 2, :c => 2:4, :c => 3:5, makeunique=true)\u001b[39m\n",
       "\u001b[36m  3×4 Dataset\u001b[39m\n",
       "\u001b[36m   Row │ b         c         c_1       a\u001b[39m\n",
       "\u001b[36m       │ identity  identity  identity  identity\u001b[39m\n",
       "\u001b[36m       │ Char?     Int64?    Int64?    Int64?\u001b[39m\n",
       "\u001b[36m  ─────┼────────────────────────────────────────\u001b[39m\n",
       "\u001b[36m     1 │ a                2         3         1\u001b[39m\n",
       "\u001b[36m     2 │ b                3         4         2\u001b[39m\n",
       "\u001b[36m     3 │ c                4         5         3\u001b[39m\n",
       "\u001b[36m  \u001b[39m"
      ]
     },
     "execution_count": 10,
     "metadata": {},
     "output_type": "execute_result"
    }
   ],
   "source": [
    "?insertcols!"
   ]
  },
  {
   "cell_type": "markdown",
   "id": "72784121",
   "metadata": {},
   "source": [
    "### We can see Julia give us a detailed explanation about `insertcols!`, including its syntax, the explanation of each keyword, and many examples."
   ]
  },
  {
   "cell_type": "markdown",
   "id": "29742641",
   "metadata": {},
   "source": [
    "### Then we can use `id` to name our columns in the output data set."
   ]
  },
  {
   "cell_type": "code",
   "execution_count": 11,
   "id": "5340498f",
   "metadata": {},
   "outputs": [
    {
     "data": {
      "text/html": [
       "<table class=\"data-set\"><thead><tr><th></th><th>_variables_</th><th>r1</th><th>r2</th><th>r3</th><th>r4</th></tr><th></th><th>identity</th><th>identity</th><th>identity</th><th>identity</th><th>identity</th></tr><tr><th></th><th title=\"Union{Missing, String}\">String?</th><th title=\"Union{Missing, Int64}\">Int64?</th><th title=\"Union{Missing, Int64}\">Int64?</th><th title=\"Union{Missing, Int64}\">Int64?</th><th title=\"Union{Missing, Int64}\">Int64?</th></tr></thead><tbody><p>2 rows × 5 columns</p><tr><th>1</th><td>x1</td><td>1</td><td>2</td><td>3</td><td>4</td></tr><tr><th>2</th><td>x2</td><td>1</td><td>4</td><td>9</td><td>16</td></tr></tbody></table>"
      ],
      "text/latex": [
       "\\begin{tabular}{r|ccccc}\n",
       "\t& \\_variables\\_ & r1 & r2 & r3 & r4\\\\\n",
       "\t\\hline\n",
       "\t& identity & identity & identity & identity & identity\\\\\n",
       "\t\\hline\n",
       "\t& String? & Int64? & Int64? & Int64? & Int64?\\\\\n",
       "\t\\hline\n",
       "\t1 & x1 & 1 & 2 & 3 & 4 \\\\\n",
       "\t2 & x2 & 1 & 4 & 9 & 16 \\\\\n",
       "\\end{tabular}\n"
      ],
      "text/plain": [
       "\u001b[1m2×5 Dataset\u001b[0m\n",
       "\u001b[1m Row \u001b[0m│\u001b[1m _variables_ \u001b[0m\u001b[1m r1       \u001b[0m\u001b[1m r2       \u001b[0m\u001b[1m r3       \u001b[0m\u001b[1m r4       \u001b[0m\n",
       "\u001b[1m     \u001b[0m│\u001b[90m identity    \u001b[0m\u001b[90m identity \u001b[0m\u001b[90m identity \u001b[0m\u001b[90m identity \u001b[0m\u001b[90m identity \u001b[0m\n",
       "\u001b[1m     \u001b[0m│\u001b[90m String?     \u001b[0m\u001b[90m Int64?   \u001b[0m\u001b[90m Int64?   \u001b[0m\u001b[90m Int64?   \u001b[0m\u001b[90m Int64?   \u001b[0m\n",
       "─────┼─────────────────────────────────────────────────────\n",
       "   1 │ x1                  1         2         3         4\n",
       "   2 │ x2                  1         4         9        16"
      ]
     },
     "execution_count": 11,
     "metadata": {},
     "output_type": "execute_result"
    }
   ],
   "source": [
    "transpose(ds1, [:x1,:x2], id = :id)"
   ]
  },
  {
   "cell_type": "markdown",
   "id": "043e5772",
   "metadata": {},
   "source": [
    "## `transpose` of grouped data sets\n",
    "###  The key feature that makes `transpose` versatile and powerful is its ability to do the simple transposing within each group of observations created by `groupby!`, `groupby` or `gatherby`. We will discuss the combination between `transpose` and these three functions below."
   ]
  },
  {
   "cell_type": "markdown",
   "id": "c7fa446f",
   "metadata": {},
   "source": [
    "### Before we start this part, maybe we should introduce a little bit about `groupby` and `gatherby`, this is a big and useful part of data manipulation, I will try my best to give you a comprehensive understanding, but if you still have something that can't understand, I suggest you go to the official document in GitHub, I also put the website in the introduction of this video."
   ]
  },
  {
   "cell_type": "markdown",
   "id": "c7a68e74",
   "metadata": {},
   "source": [
    "## groupby() and gatherby()"
   ]
  },
  {
   "cell_type": "markdown",
   "id": "55dff2ce",
   "metadata": {},
   "source": [
    "### InMemoryDatasets uses two approaches to group observations: sorting, and hashing. In sorting approach, it sorts the data set based on given columns and finds the starts and ends of each group based on the sorted values. In hashing approach, it uses a hybrid algorithm to group observations. Each of these approaches has some advantages over the other one and for any particular problem one of them might be more suitable than the other one."
   ]
  },
  {
   "cell_type": "markdown",
   "id": "09f594ac",
   "metadata": {},
   "source": [
    "### The main functions for grouping observations based on sorting approach are `groupby!` and `groupby`. The `groupby!` function replaces the original data set with the sorted one and attaches a meta information about the grouping orders to the replaced data set, on the other hand, the `groupby` function performs the sorting phase, however, it creates a view of the main data set where the meta information is attached to it. The output of `groupby` is basically a view of the sorted data set."
   ]
  },
  {
   "cell_type": "markdown",
   "id": "fbc7cfdc",
   "metadata": {},
   "source": [
    "### Let's have an example here, assume we have a data set, "
   ]
  },
  {
   "cell_type": "code",
   "execution_count": 12,
   "id": "0abd1858",
   "metadata": {},
   "outputs": [
    {
     "data": {
      "text/html": [
       "<table class=\"data-set\"><thead><tr><th></th><th>g</th><th>x</th></tr><th></th><th>identity</th><th>identity</th></tr><tr><th></th><th title=\"Union{Missing, Int64}\">Int64?</th><th title=\"Union{Missing, Float64}\">Float64?</th></tr></thead><tbody><p>6 rows × 2 columns</p><tr><th>1</th><td>1</td><td>12.0</td></tr><tr><th>2</th><td>2</td><td>12.3</td></tr><tr><th>3</th><td>1</td><td>11.0</td></tr><tr><th>4</th><td>2</td><td>13.0</td></tr><tr><th>5</th><td>1</td><td>15.0</td></tr><tr><th>6</th><td>2</td><td>13.2</td></tr></tbody></table>"
      ],
      "text/latex": [
       "\\begin{tabular}{r|cc}\n",
       "\t& g & x\\\\\n",
       "\t\\hline\n",
       "\t& identity & identity\\\\\n",
       "\t\\hline\n",
       "\t& Int64? & Float64?\\\\\n",
       "\t\\hline\n",
       "\t1 & 1 & 12.0 \\\\\n",
       "\t2 & 2 & 12.3 \\\\\n",
       "\t3 & 1 & 11.0 \\\\\n",
       "\t4 & 2 & 13.0 \\\\\n",
       "\t5 & 1 & 15.0 \\\\\n",
       "\t6 & 2 & 13.2 \\\\\n",
       "\\end{tabular}\n"
      ],
      "text/plain": [
       "\u001b[1m6×2 Dataset\u001b[0m\n",
       "\u001b[1m Row \u001b[0m│\u001b[1m g        \u001b[0m\u001b[1m x        \u001b[0m\n",
       "\u001b[1m     \u001b[0m│\u001b[90m identity \u001b[0m\u001b[90m identity \u001b[0m\n",
       "\u001b[1m     \u001b[0m│\u001b[90m Int64?   \u001b[0m\u001b[90m Float64? \u001b[0m\n",
       "─────┼────────────────────\n",
       "   1 │        1      12.0\n",
       "   2 │        2      12.3\n",
       "   3 │        1      11.0\n",
       "   4 │        2      13.0\n",
       "   5 │        1      15.0\n",
       "   6 │        2      13.2"
      ]
     },
     "execution_count": 12,
     "metadata": {},
     "output_type": "execute_result"
    }
   ],
   "source": [
    "ds2 = Dataset(g = [1,2,1,2,1,2], x = [12.0,12.3,11.0,13.0,15.0,13.2])"
   ]
  },
  {
   "cell_type": "markdown",
   "id": "39290ac3",
   "metadata": {},
   "source": [
    "### And we want to classify the dataset according to the information in the first column, we have"
   ]
  },
  {
   "cell_type": "code",
   "execution_count": 13,
   "id": "8de31398",
   "metadata": {},
   "outputs": [
    {
     "data": {
      "text/plain": [
       "\u001b[1m6×2 View of Grouped Dataset, Grouped by: g\u001b[0m\n",
       "\u001b[1m g        \u001b[0m\u001b[1m x        \u001b[0m\n",
       "\u001b[90m identity \u001b[0m\u001b[90m identity \u001b[0m\n",
       "\u001b[90m Int64?   \u001b[0m\u001b[90m Float64? \u001b[0m\n",
       "────────────────────\n",
       "        1      12.0\n",
       "        1      11.0\n",
       "        1      15.0\n",
       "        2      12.3\n",
       "        2      13.0\n",
       "        2      13.2"
      ]
     },
     "execution_count": 13,
     "metadata": {},
     "output_type": "execute_result"
    }
   ],
   "source": [
    "groupby(ds2,1)"
   ]
  },
  {
   "cell_type": "markdown",
   "id": "72f26d80",
   "metadata": {},
   "source": [
    "### And if we output the orignal dataset, "
   ]
  },
  {
   "cell_type": "code",
   "execution_count": 14,
   "id": "b71104f2",
   "metadata": {},
   "outputs": [
    {
     "data": {
      "text/html": [
       "<table class=\"data-set\"><thead><tr><th></th><th>g</th><th>x</th></tr><th></th><th>identity</th><th>identity</th></tr><tr><th></th><th title=\"Union{Missing, Int64}\">Int64?</th><th title=\"Union{Missing, Float64}\">Float64?</th></tr></thead><tbody><p>6 rows × 2 columns</p><tr><th>1</th><td>1</td><td>12.0</td></tr><tr><th>2</th><td>2</td><td>12.3</td></tr><tr><th>3</th><td>1</td><td>11.0</td></tr><tr><th>4</th><td>2</td><td>13.0</td></tr><tr><th>5</th><td>1</td><td>15.0</td></tr><tr><th>6</th><td>2</td><td>13.2</td></tr></tbody></table>"
      ],
      "text/latex": [
       "\\begin{tabular}{r|cc}\n",
       "\t& g & x\\\\\n",
       "\t\\hline\n",
       "\t& identity & identity\\\\\n",
       "\t\\hline\n",
       "\t& Int64? & Float64?\\\\\n",
       "\t\\hline\n",
       "\t1 & 1 & 12.0 \\\\\n",
       "\t2 & 2 & 12.3 \\\\\n",
       "\t3 & 1 & 11.0 \\\\\n",
       "\t4 & 2 & 13.0 \\\\\n",
       "\t5 & 1 & 15.0 \\\\\n",
       "\t6 & 2 & 13.2 \\\\\n",
       "\\end{tabular}\n"
      ],
      "text/plain": [
       "\u001b[1m6×2 Dataset\u001b[0m\n",
       "\u001b[1m Row \u001b[0m│\u001b[1m g        \u001b[0m\u001b[1m x        \u001b[0m\n",
       "\u001b[1m     \u001b[0m│\u001b[90m identity \u001b[0m\u001b[90m identity \u001b[0m\n",
       "\u001b[1m     \u001b[0m│\u001b[90m Int64?   \u001b[0m\u001b[90m Float64? \u001b[0m\n",
       "─────┼────────────────────\n",
       "   1 │        1      12.0\n",
       "   2 │        2      12.3\n",
       "   3 │        1      11.0\n",
       "   4 │        2      13.0\n",
       "   5 │        1      15.0\n",
       "   6 │        2      13.2"
      ]
     },
     "execution_count": 14,
     "metadata": {},
     "output_type": "execute_result"
    }
   ],
   "source": [
    "ds2"
   ]
  },
  {
   "cell_type": "markdown",
   "id": "f7ea5eb9",
   "metadata": {},
   "source": [
    "### We can see the ds2 is untouched. If we use groupby!,"
   ]
  },
  {
   "cell_type": "code",
   "execution_count": 15,
   "id": "163b3d38",
   "metadata": {},
   "outputs": [
    {
     "data": {
      "text/html": [
       "<table class=\"data-set\"><thead><tr><th></th><th>g</th><th>x</th></tr><th></th><th>identity</th><th>identity</th></tr><tr><th></th><th title=\"Union{Missing, Int64}\">Int64?</th><th title=\"Union{Missing, Float64}\">Float64?</th></tr></thead><tbody><p>6 rows × 2 columns</p><p><b> Grouped Dataset with 2 groups </p><p> Grouped by: g </p><tr><th>1</th><td>1</td><td>12.0</td></tr><tr><th>2</th><td>1</td><td>11.0</td></tr><tr><th>3</th><td>1</td><td>15.0</td></tr><tr><th>4</th><td>2</td><td>12.3</td></tr><tr><th>5</th><td>2</td><td>13.0</td></tr><tr><th>6</th><td>2</td><td>13.2</td></tr></tbody></table>"
      ],
      "text/latex": [
       "\\begin{tabular}{r|cc}\n",
       "\t& g & x\\\\\n",
       "\t\\hline\n",
       "\t& identity & identity\\\\\n",
       "\t\\hline\n",
       "\t& Int64? & Float64?\\\\\n",
       "\t\\hline\n",
       "\t1 & 1 & 12.0 \\\\\n",
       "\t2 & 1 & 11.0 \\\\\n",
       "\t3 & 1 & 15.0 \\\\\n",
       "\t4 & 2 & 12.3 \\\\\n",
       "\t5 & 2 & 13.0 \\\\\n",
       "\t6 & 2 & 13.2 \\\\\n",
       "\\end{tabular}\n"
      ],
      "text/plain": [
       "\u001b[1m6×2 Grouped Dataset with 2 groups\n",
       "Grouped by: g\u001b[0m\n",
       "\u001b[1m Row \u001b[0m│\u001b[1m g        \u001b[0m\u001b[1m x        \u001b[0m\n",
       "\u001b[1m     \u001b[0m│\u001b[90m identity \u001b[0m\u001b[90m identity \u001b[0m\n",
       "\u001b[1m     \u001b[0m│\u001b[90m Int64?   \u001b[0m\u001b[90m Float64? \u001b[0m\n",
       "─────┼────────────────────\n",
       "   1 │        1      12.0\n",
       "   2 │        1      11.0\n",
       "   3 │        1      15.0\n",
       "   4 │        2      12.3\n",
       "   5 │        2      13.0\n",
       "   6 │        2      13.2"
      ]
     },
     "execution_count": 15,
     "metadata": {},
     "output_type": "execute_result"
    }
   ],
   "source": [
    "groupby!(ds2, 1)"
   ]
  },
  {
   "cell_type": "markdown",
   "id": "c310f798",
   "metadata": {},
   "source": [
    "### And also we output the orignal dataset,"
   ]
  },
  {
   "cell_type": "code",
   "execution_count": 16,
   "id": "d631a170",
   "metadata": {},
   "outputs": [
    {
     "data": {
      "text/html": [
       "<table class=\"data-set\"><thead><tr><th></th><th>g</th><th>x</th></tr><th></th><th>identity</th><th>identity</th></tr><tr><th></th><th title=\"Union{Missing, Int64}\">Int64?</th><th title=\"Union{Missing, Float64}\">Float64?</th></tr></thead><tbody><p>6 rows × 2 columns</p><p><b> Grouped Dataset with 2 groups </p><p> Grouped by: g </p><tr><th>1</th><td>1</td><td>12.0</td></tr><tr><th>2</th><td>1</td><td>11.0</td></tr><tr><th>3</th><td>1</td><td>15.0</td></tr><tr><th>4</th><td>2</td><td>12.3</td></tr><tr><th>5</th><td>2</td><td>13.0</td></tr><tr><th>6</th><td>2</td><td>13.2</td></tr></tbody></table>"
      ],
      "text/latex": [
       "\\begin{tabular}{r|cc}\n",
       "\t& g & x\\\\\n",
       "\t\\hline\n",
       "\t& identity & identity\\\\\n",
       "\t\\hline\n",
       "\t& Int64? & Float64?\\\\\n",
       "\t\\hline\n",
       "\t1 & 1 & 12.0 \\\\\n",
       "\t2 & 1 & 11.0 \\\\\n",
       "\t3 & 1 & 15.0 \\\\\n",
       "\t4 & 2 & 12.3 \\\\\n",
       "\t5 & 2 & 13.0 \\\\\n",
       "\t6 & 2 & 13.2 \\\\\n",
       "\\end{tabular}\n"
      ],
      "text/plain": [
       "\u001b[1m6×2 Grouped Dataset with 2 groups\n",
       "Grouped by: g\u001b[0m\n",
       "\u001b[1m Row \u001b[0m│\u001b[1m g        \u001b[0m\u001b[1m x        \u001b[0m\n",
       "\u001b[1m     \u001b[0m│\u001b[90m identity \u001b[0m\u001b[90m identity \u001b[0m\n",
       "\u001b[1m     \u001b[0m│\u001b[90m Int64?   \u001b[0m\u001b[90m Float64? \u001b[0m\n",
       "─────┼────────────────────\n",
       "   1 │        1      12.0\n",
       "   2 │        1      11.0\n",
       "   3 │        1      15.0\n",
       "   4 │        2      12.3\n",
       "   5 │        2      13.0\n",
       "   6 │        2      13.2"
      ]
     },
     "execution_count": 16,
     "metadata": {},
     "output_type": "execute_result"
    }
   ],
   "source": [
    "ds2"
   ]
  },
  {
   "cell_type": "markdown",
   "id": "854b293c",
   "metadata": {},
   "source": [
    "### We can see the orignal dataset has been replaced with its grouped version."
   ]
  },
  {
   "cell_type": "markdown",
   "id": "db9d9846",
   "metadata": {},
   "source": [
    "### The difference between `groupby` and `groupby!` is basically because of the exclamatory mark. In most cases in Julia, if there is an exclamatory mark after the function, which means this function will directly update the original dataset, and if there is not, the function will only return a modified copy but not change the original dataset."
   ]
  },
  {
   "cell_type": "markdown",
   "id": "b5b70cff",
   "metadata": {},
   "source": [
    "### As for `gatherby`, the `gatherby` function uses the hashing approach to group observations based on a set of columns. Unlike `groupby` or `groupby!`, the `gatherby` function doesn't sort the data set, instead, it uses the hybrid algorithm to group observations. `gatherby` can be particularly useful when sorting is computationally expensive. Another benefit of `gatherby` is that, by default, it keeps the order of observations in each group the same as their appearance in the original data set."
   ]
  },
  {
   "cell_type": "markdown",
   "id": "2f1503a4",
   "metadata": {},
   "source": [
    "### The syntax for using the `gatherby` function is `gatherby(ds, cols)` where `ds` is the data set and `cols` is any column selector which indicates the columns which are going to be used in gathering."
   ]
  },
  {
   "cell_type": "markdown",
   "id": "0ec3bcdd",
   "metadata": {},
   "source": [
    "### We also have an example for `gatherby`:"
   ]
  },
  {
   "cell_type": "markdown",
   "id": "5d86f8ba",
   "metadata": {},
   "source": [
    "### First we need a dataset, "
   ]
  },
  {
   "cell_type": "code",
   "execution_count": 17,
   "id": "5137cb61",
   "metadata": {},
   "outputs": [
    {
     "data": {
      "text/html": [
       "<table class=\"data-set\"><thead><tr><th></th><th>grp</th><th>x</th></tr><th></th><th>identity</th><th>identity</th></tr><tr><th></th><th title=\"Union{Missing, Int64}\">Int64?</th><th title=\"Union{Missing, Bool}\">Bool?</th></tr></thead><tbody><p>8 rows × 2 columns</p><tr><th>1</th><td>1</td><td>1</td></tr><tr><th>2</th><td>2</td><td>0</td></tr><tr><th>3</th><td>3</td><td>1</td></tr><tr><th>4</th><td>3</td><td>1</td></tr><tr><th>5</th><td>1</td><td>1</td></tr><tr><th>6</th><td>3</td><td>1</td></tr><tr><th>7</th><td>2</td><td>0</td></tr><tr><th>8</th><td>1</td><td>0</td></tr></tbody></table>"
      ],
      "text/latex": [
       "\\begin{tabular}{r|cc}\n",
       "\t& grp & x\\\\\n",
       "\t\\hline\n",
       "\t& identity & identity\\\\\n",
       "\t\\hline\n",
       "\t& Int64? & Bool?\\\\\n",
       "\t\\hline\n",
       "\t1 & 1 & 1 \\\\\n",
       "\t2 & 2 & 0 \\\\\n",
       "\t3 & 3 & 1 \\\\\n",
       "\t4 & 3 & 1 \\\\\n",
       "\t5 & 1 & 1 \\\\\n",
       "\t6 & 3 & 1 \\\\\n",
       "\t7 & 2 & 0 \\\\\n",
       "\t8 & 1 & 0 \\\\\n",
       "\\end{tabular}\n"
      ],
      "text/plain": [
       "\u001b[1m8×2 Dataset\u001b[0m\n",
       "\u001b[1m Row \u001b[0m│\u001b[1m grp      \u001b[0m\u001b[1m x        \u001b[0m\n",
       "\u001b[1m     \u001b[0m│\u001b[90m identity \u001b[0m\u001b[90m identity \u001b[0m\n",
       "\u001b[1m     \u001b[0m│\u001b[90m Int64?   \u001b[0m\u001b[90m Bool?    \u001b[0m\n",
       "─────┼────────────────────\n",
       "   1 │        1      true\n",
       "   2 │        2     false\n",
       "   3 │        3      true\n",
       "   4 │        3      true\n",
       "   5 │        1      true\n",
       "   6 │        3      true\n",
       "   7 │        2     false\n",
       "   8 │        1     false"
      ]
     },
     "execution_count": 17,
     "metadata": {},
     "output_type": "execute_result"
    }
   ],
   "source": [
    "ds3 = Dataset(grp = [1,2,3,3,1,3,2,1], x = [true, false, true, true, true,true,false,false])"
   ]
  },
  {
   "cell_type": "code",
   "execution_count": 18,
   "id": "d006f824",
   "metadata": {},
   "outputs": [
    {
     "data": {
      "text/plain": [
       "\u001b[1m8×2 View of GatherBy Dataset, Gathered by: x\u001b[0m\n",
       "\u001b[1m grp      \u001b[0m\u001b[1m x        \u001b[0m\n",
       "\u001b[90m identity \u001b[0m\u001b[90m identity \u001b[0m\n",
       "\u001b[90m Int64?   \u001b[0m\u001b[90m Bool?    \u001b[0m\n",
       "────────────────────\n",
       "        1      true\n",
       "        3      true\n",
       "        3      true\n",
       "        1      true\n",
       "        3      true\n",
       "        2     false\n",
       "        2     false\n",
       "        1     false"
      ]
     },
     "execution_count": 18,
     "metadata": {},
     "output_type": "execute_result"
    }
   ],
   "source": [
    "gatherby(ds3,:x)"
   ]
  },
  {
   "cell_type": "markdown",
   "id": "f82c5b23",
   "metadata": {},
   "source": [
    "### As mentioned before, the result of `gatherby` is stable, however, when this stability is not needed and there are many groups in the data set, passing `stable = false` improves the performance by sacrificing the stability."
   ]
  },
  {
   "cell_type": "markdown",
   "id": "a244ceef",
   "metadata": {},
   "source": [
    "### Through the above, I believe you have a comprehensive understanding of `groupby` and `gatherby`. Let's continue our `transpose` learning."
   ]
  },
  {
   "cell_type": "markdown",
   "id": "dca0e537",
   "metadata": {},
   "source": [
    "### When the first argument of the `transpose` function is a grouped data set - created by `groupby!`, `groupby`, or `gatherby` - `transpose` does the simple transposing within each group of observations. Thus, the transposition of a grouped data set can be viewed as transposing the matrix shape data values which are created for each group of observations. Since the size of transposed columns within each group can be different, `transpose` pads them with `missing` values to overcome this problem. The `missing` padding can be replaced by any other values which passed to default keyword argument of the function."
   ]
  },
  {
   "cell_type": "markdown",
   "id": "1e91cfd4",
   "metadata": {},
   "source": [
    "### We still begin with an example, assume we have a dataset,"
   ]
  },
  {
   "cell_type": "code",
   "execution_count": 19,
   "id": "849ab806",
   "metadata": {},
   "outputs": [
    {
     "data": {
      "text/html": [
       "<table class=\"data-set\"><thead><tr><th></th><th>group</th><th>b</th><th>c</th><th>d</th><th>e</th></tr><th></th><th>identity</th><th>identity</th><th>identity</th><th>identity</th><th>identity</th></tr><tr><th></th><th title=\"Union{Missing, Int64}\">Int64?</th><th title=\"Union{Missing, Int64}\">Int64?</th><th title=\"Union{Missing, Int64}\">Int64?</th><th title=\"Union{Missing, Int64}\">Int64?</th><th title=\"Union{Missing, String}\">String?</th></tr></thead><tbody><p>6 rows × 5 columns</p><tr><th>1</th><td>1</td><td>1</td><td>1</td><td>1</td><td>a</td></tr><tr><th>2</th><td>1</td><td>1</td><td>1</td><td>2</td><td>b</td></tr><tr><th>3</th><td>2</td><td>1</td><td>1</td><td>3</td><td>c</td></tr><tr><th>4</th><td>2</td><td>2</td><td>1</td><td>4</td><td>d</td></tr><tr><th>5</th><td>3</td><td>2</td><td>1</td><td>5</td><td>e</td></tr><tr><th>6</th><td>3</td><td>2</td><td>1</td><td>6</td><td>f</td></tr></tbody></table>"
      ],
      "text/latex": [
       "\\begin{tabular}{r|ccccc}\n",
       "\t& group & b & c & d & e\\\\\n",
       "\t\\hline\n",
       "\t& identity & identity & identity & identity & identity\\\\\n",
       "\t\\hline\n",
       "\t& Int64? & Int64? & Int64? & Int64? & String?\\\\\n",
       "\t\\hline\n",
       "\t1 & 1 & 1 & 1 & 1 & a \\\\\n",
       "\t2 & 1 & 1 & 1 & 2 & b \\\\\n",
       "\t3 & 2 & 1 & 1 & 3 & c \\\\\n",
       "\t4 & 2 & 2 & 1 & 4 & d \\\\\n",
       "\t5 & 3 & 2 & 1 & 5 & e \\\\\n",
       "\t6 & 3 & 2 & 1 & 6 & f \\\\\n",
       "\\end{tabular}\n"
      ],
      "text/plain": [
       "\u001b[1m6×5 Dataset\u001b[0m\n",
       "\u001b[1m Row \u001b[0m│\u001b[1m group    \u001b[0m\u001b[1m b        \u001b[0m\u001b[1m c        \u001b[0m\u001b[1m d        \u001b[0m\u001b[1m e        \u001b[0m\n",
       "\u001b[1m     \u001b[0m│\u001b[90m identity \u001b[0m\u001b[90m identity \u001b[0m\u001b[90m identity \u001b[0m\u001b[90m identity \u001b[0m\u001b[90m identity \u001b[0m\n",
       "\u001b[1m     \u001b[0m│\u001b[90m Int64?   \u001b[0m\u001b[90m Int64?   \u001b[0m\u001b[90m Int64?   \u001b[0m\u001b[90m Int64?   \u001b[0m\u001b[90m String?  \u001b[0m\n",
       "─────┼──────────────────────────────────────────────────\n",
       "   1 │        1         1         1         1  a\n",
       "   2 │        1         1         1         2  b\n",
       "   3 │        2         1         1         3  c\n",
       "   4 │        2         2         1         4  d\n",
       "   5 │        3         2         1         5  e\n",
       "   6 │        3         2         1         6  f"
      ]
     },
     "execution_count": 19,
     "metadata": {},
     "output_type": "execute_result"
    }
   ],
   "source": [
    "ds4 = Dataset(group = repeat(1:3, inner = 2),\n",
    "                                    b = repeat(1:2, inner = 3),\n",
    "                                    c = repeat(1:1, inner = 6),\n",
    "                                    d = repeat(1:6, inner = 1),\n",
    "                                    e = string.('a':'f'))"
   ]
  },
  {
   "cell_type": "markdown",
   "id": "607871a2",
   "metadata": {},
   "source": [
    "### Assume we want to transpose the grouped dataset based on `group` column and we only want to use the integer data. "
   ]
  },
  {
   "cell_type": "code",
   "execution_count": 20,
   "id": "3cf65276",
   "metadata": {},
   "outputs": [
    {
     "data": {
      "text/html": [
       "<table class=\"data-set\"><thead><tr><th></th><th>group</th><th>_variables_</th><th>_c1</th><th>_c2</th></tr><th></th><th>identity</th><th>identity</th><th>identity</th><th>identity</th></tr><tr><th></th><th title=\"Union{Missing, Int64}\">Int64?</th><th title=\"Union{Missing, String}\">String?</th><th title=\"Union{Missing, Int64}\">Int64?</th><th title=\"Union{Missing, Int64}\">Int64?</th></tr></thead><tbody><p>9 rows × 4 columns</p><tr><th>1</th><td>1</td><td>b</td><td>1</td><td>1</td></tr><tr><th>2</th><td>1</td><td>c</td><td>1</td><td>1</td></tr><tr><th>3</th><td>1</td><td>d</td><td>1</td><td>2</td></tr><tr><th>4</th><td>2</td><td>b</td><td>1</td><td>2</td></tr><tr><th>5</th><td>2</td><td>c</td><td>1</td><td>1</td></tr><tr><th>6</th><td>2</td><td>d</td><td>3</td><td>4</td></tr><tr><th>7</th><td>3</td><td>b</td><td>2</td><td>2</td></tr><tr><th>8</th><td>3</td><td>c</td><td>1</td><td>1</td></tr><tr><th>9</th><td>3</td><td>d</td><td>5</td><td>6</td></tr></tbody></table>"
      ],
      "text/latex": [
       "\\begin{tabular}{r|cccc}\n",
       "\t& group & \\_variables\\_ & \\_c1 & \\_c2\\\\\n",
       "\t\\hline\n",
       "\t& identity & identity & identity & identity\\\\\n",
       "\t\\hline\n",
       "\t& Int64? & String? & Int64? & Int64?\\\\\n",
       "\t\\hline\n",
       "\t1 & 1 & b & 1 & 1 \\\\\n",
       "\t2 & 1 & c & 1 & 1 \\\\\n",
       "\t3 & 1 & d & 1 & 2 \\\\\n",
       "\t4 & 2 & b & 1 & 2 \\\\\n",
       "\t5 & 2 & c & 1 & 1 \\\\\n",
       "\t6 & 2 & d & 3 & 4 \\\\\n",
       "\t7 & 3 & b & 2 & 2 \\\\\n",
       "\t8 & 3 & c & 1 & 1 \\\\\n",
       "\t9 & 3 & d & 5 & 6 \\\\\n",
       "\\end{tabular}\n"
      ],
      "text/plain": [
       "\u001b[1m9×4 Dataset\u001b[0m\n",
       "\u001b[1m Row \u001b[0m│\u001b[1m group    \u001b[0m\u001b[1m _variables_ \u001b[0m\u001b[1m _c1      \u001b[0m\u001b[1m _c2      \u001b[0m\n",
       "\u001b[1m     \u001b[0m│\u001b[90m identity \u001b[0m\u001b[90m identity    \u001b[0m\u001b[90m identity \u001b[0m\u001b[90m identity \u001b[0m\n",
       "\u001b[1m     \u001b[0m│\u001b[90m Int64?   \u001b[0m\u001b[90m String?     \u001b[0m\u001b[90m Int64?   \u001b[0m\u001b[90m Int64?   \u001b[0m\n",
       "─────┼───────────────────────────────────────────\n",
       "   1 │        1  b                   1         1\n",
       "   2 │        1  c                   1         1\n",
       "   3 │        1  d                   1         2\n",
       "   4 │        2  b                   1         2\n",
       "   5 │        2  c                   1         1\n",
       "   6 │        2  d                   3         4\n",
       "   7 │        3  b                   2         2\n",
       "   8 │        3  c                   1         1\n",
       "   9 │        3  d                   5         6"
      ]
     },
     "execution_count": 20,
     "metadata": {},
     "output_type": "execute_result"
    }
   ],
   "source": [
    "transpose(groupby(ds4,:group),2:4)"
   ]
  },
  {
   "cell_type": "markdown",
   "id": "f7883ee0",
   "metadata": {},
   "source": [
    "### Also when we want to use column e for the name of the transposed dataset, we can use `id` keyword."
   ]
  },
  {
   "cell_type": "code",
   "execution_count": 21,
   "id": "59ba69fc",
   "metadata": {},
   "outputs": [
    {
     "data": {
      "text/html": [
       "<table class=\"data-set\"><thead><tr><th></th><th>group</th><th>_variables_</th><th>a</th><th>b</th><th>c</th><th>d</th><th>e</th><th>f</th></tr><th></th><th>identity</th><th>identity</th><th>identity</th><th>identity</th><th>identity</th><th>identity</th><th>identity</th><th>identity</th></tr><tr><th></th><th title=\"Union{Missing, Int64}\">Int64?</th><th title=\"Union{Missing, String}\">String?</th><th title=\"Union{Missing, Int64}\">Int64?</th><th title=\"Union{Missing, Int64}\">Int64?</th><th title=\"Union{Missing, Int64}\">Int64?</th><th title=\"Union{Missing, Int64}\">Int64?</th><th title=\"Union{Missing, Int64}\">Int64?</th><th title=\"Union{Missing, Int64}\">Int64?</th></tr></thead><tbody><p>9 rows × 8 columns</p><tr><th>1</th><td>1</td><td>b</td><td>1</td><td>1</td><td><em>missing</em></td><td><em>missing</em></td><td><em>missing</em></td><td><em>missing</em></td></tr><tr><th>2</th><td>1</td><td>c</td><td>1</td><td>1</td><td><em>missing</em></td><td><em>missing</em></td><td><em>missing</em></td><td><em>missing</em></td></tr><tr><th>3</th><td>1</td><td>d</td><td>1</td><td>2</td><td><em>missing</em></td><td><em>missing</em></td><td><em>missing</em></td><td><em>missing</em></td></tr><tr><th>4</th><td>2</td><td>b</td><td><em>missing</em></td><td><em>missing</em></td><td>1</td><td>2</td><td><em>missing</em></td><td><em>missing</em></td></tr><tr><th>5</th><td>2</td><td>c</td><td><em>missing</em></td><td><em>missing</em></td><td>1</td><td>1</td><td><em>missing</em></td><td><em>missing</em></td></tr><tr><th>6</th><td>2</td><td>d</td><td><em>missing</em></td><td><em>missing</em></td><td>3</td><td>4</td><td><em>missing</em></td><td><em>missing</em></td></tr><tr><th>7</th><td>3</td><td>b</td><td><em>missing</em></td><td><em>missing</em></td><td><em>missing</em></td><td><em>missing</em></td><td>2</td><td>2</td></tr><tr><th>8</th><td>3</td><td>c</td><td><em>missing</em></td><td><em>missing</em></td><td><em>missing</em></td><td><em>missing</em></td><td>1</td><td>1</td></tr><tr><th>9</th><td>3</td><td>d</td><td><em>missing</em></td><td><em>missing</em></td><td><em>missing</em></td><td><em>missing</em></td><td>5</td><td>6</td></tr></tbody></table>"
      ],
      "text/latex": [
       "\\begin{tabular}{r|cccccccc}\n",
       "\t& group & \\_variables\\_ & a & b & c & d & e & f\\\\\n",
       "\t\\hline\n",
       "\t& identity & identity & identity & identity & identity & identity & identity & identity\\\\\n",
       "\t\\hline\n",
       "\t& Int64? & String? & Int64? & Int64? & Int64? & Int64? & Int64? & Int64?\\\\\n",
       "\t\\hline\n",
       "\t1 & 1 & b & 1 & 1 & \\emph{missing} & \\emph{missing} & \\emph{missing} & \\emph{missing} \\\\\n",
       "\t2 & 1 & c & 1 & 1 & \\emph{missing} & \\emph{missing} & \\emph{missing} & \\emph{missing} \\\\\n",
       "\t3 & 1 & d & 1 & 2 & \\emph{missing} & \\emph{missing} & \\emph{missing} & \\emph{missing} \\\\\n",
       "\t4 & 2 & b & \\emph{missing} & \\emph{missing} & 1 & 2 & \\emph{missing} & \\emph{missing} \\\\\n",
       "\t5 & 2 & c & \\emph{missing} & \\emph{missing} & 1 & 1 & \\emph{missing} & \\emph{missing} \\\\\n",
       "\t6 & 2 & d & \\emph{missing} & \\emph{missing} & 3 & 4 & \\emph{missing} & \\emph{missing} \\\\\n",
       "\t7 & 3 & b & \\emph{missing} & \\emph{missing} & \\emph{missing} & \\emph{missing} & 2 & 2 \\\\\n",
       "\t8 & 3 & c & \\emph{missing} & \\emph{missing} & \\emph{missing} & \\emph{missing} & 1 & 1 \\\\\n",
       "\t9 & 3 & d & \\emph{missing} & \\emph{missing} & \\emph{missing} & \\emph{missing} & 5 & 6 \\\\\n",
       "\\end{tabular}\n"
      ],
      "text/plain": [
       "\u001b[1m9×8 Dataset\u001b[0m\n",
       "\u001b[1m Row \u001b[0m│\u001b[1m group    \u001b[0m\u001b[1m _variables_ \u001b[0m\u001b[1m a        \u001b[0m\u001b[1m b        \u001b[0m\u001b[1m c        \u001b[0m\u001b[1m d        \u001b[0m\u001b[1m e       \u001b[0m ⋯\n",
       "\u001b[1m     \u001b[0m│\u001b[90m identity \u001b[0m\u001b[90m identity    \u001b[0m\u001b[90m identity \u001b[0m\u001b[90m identity \u001b[0m\u001b[90m identity \u001b[0m\u001b[90m identity \u001b[0m\u001b[90m identity\u001b[0m ⋯\n",
       "\u001b[1m     \u001b[0m│\u001b[90m Int64?   \u001b[0m\u001b[90m String?     \u001b[0m\u001b[90m Int64?   \u001b[0m\u001b[90m Int64?   \u001b[0m\u001b[90m Int64?   \u001b[0m\u001b[90m Int64?   \u001b[0m\u001b[90m Int64?  \u001b[0m ⋯\n",
       "─────┼──────────────────────────────────────────────────────────────────────────\n",
       "   1 │        1  b                   1         1 \u001b[90m  missing \u001b[0m\u001b[90m  missing \u001b[0m\u001b[90m  missing\u001b[0m ⋯\n",
       "   2 │        1  c                   1         1 \u001b[90m  missing \u001b[0m\u001b[90m  missing \u001b[0m\u001b[90m  missing\u001b[0m\n",
       "   3 │        1  d                   1         2 \u001b[90m  missing \u001b[0m\u001b[90m  missing \u001b[0m\u001b[90m  missing\u001b[0m\n",
       "   4 │        2  b           \u001b[90m  missing \u001b[0m\u001b[90m  missing \u001b[0m        1         2 \u001b[90m  missing\u001b[0m\n",
       "   5 │        2  c           \u001b[90m  missing \u001b[0m\u001b[90m  missing \u001b[0m        1         1 \u001b[90m  missing\u001b[0m ⋯\n",
       "   6 │        2  d           \u001b[90m  missing \u001b[0m\u001b[90m  missing \u001b[0m        3         4 \u001b[90m  missing\u001b[0m\n",
       "   7 │        3  b           \u001b[90m  missing \u001b[0m\u001b[90m  missing \u001b[0m\u001b[90m  missing \u001b[0m\u001b[90m  missing \u001b[0m        2\n",
       "   8 │        3  c           \u001b[90m  missing \u001b[0m\u001b[90m  missing \u001b[0m\u001b[90m  missing \u001b[0m\u001b[90m  missing \u001b[0m        1\n",
       "   9 │        3  d           \u001b[90m  missing \u001b[0m\u001b[90m  missing \u001b[0m\u001b[90m  missing \u001b[0m\u001b[90m  missing \u001b[0m        5 ⋯\n",
       "\u001b[36m                                                                1 column omitted\u001b[0m"
      ]
     },
     "execution_count": 21,
     "metadata": {},
     "output_type": "execute_result"
    }
   ],
   "source": [
    "transpose(groupby(ds4,:group),2:4,id = :e)"
   ]
  },
  {
   "cell_type": "markdown",
   "id": "78e57902",
   "metadata": {},
   "source": [
    "### As you can see, there are many `missing` because the size of transposed columns within each group can be different, and assume we want to use `None` to replace it."
   ]
  },
  {
   "cell_type": "code",
   "execution_count": 23,
   "id": "b956ac41",
   "metadata": {},
   "outputs": [
    {
     "data": {
      "text/html": [
       "<table class=\"data-set\"><thead><tr><th></th><th>group</th><th>_variables_</th><th>a</th><th>b</th><th>c</th><th>d</th><th>e</th><th>f</th></tr><th></th><th>identity</th><th>identity</th><th>identity</th><th>identity</th><th>identity</th><th>identity</th><th>identity</th><th>identity</th></tr><tr><th></th><th title=\"Union{Missing, Int64}\">Int64?</th><th title=\"Union{Missing, String}\">String?</th><th title=\"Any\">Any</th><th title=\"Any\">Any</th><th title=\"Any\">Any</th><th title=\"Any\">Any</th><th title=\"Any\">Any</th><th title=\"Any\">Any</th></tr></thead><tbody><p>9 rows × 8 columns</p><tr><th>1</th><td>1</td><td>b</td><td>1</td><td>1</td><td>None</td><td>None</td><td>None</td><td>None</td></tr><tr><th>2</th><td>1</td><td>c</td><td>1</td><td>1</td><td>None</td><td>None</td><td>None</td><td>None</td></tr><tr><th>3</th><td>1</td><td>d</td><td>1</td><td>2</td><td>None</td><td>None</td><td>None</td><td>None</td></tr><tr><th>4</th><td>2</td><td>b</td><td>None</td><td>None</td><td>1</td><td>2</td><td>None</td><td>None</td></tr><tr><th>5</th><td>2</td><td>c</td><td>None</td><td>None</td><td>1</td><td>1</td><td>None</td><td>None</td></tr><tr><th>6</th><td>2</td><td>d</td><td>None</td><td>None</td><td>3</td><td>4</td><td>None</td><td>None</td></tr><tr><th>7</th><td>3</td><td>b</td><td>None</td><td>None</td><td>None</td><td>None</td><td>2</td><td>2</td></tr><tr><th>8</th><td>3</td><td>c</td><td>None</td><td>None</td><td>None</td><td>None</td><td>1</td><td>1</td></tr><tr><th>9</th><td>3</td><td>d</td><td>None</td><td>None</td><td>None</td><td>None</td><td>5</td><td>6</td></tr></tbody></table>"
      ],
      "text/latex": [
       "\\begin{tabular}{r|cccccccc}\n",
       "\t& group & \\_variables\\_ & a & b & c & d & e & f\\\\\n",
       "\t\\hline\n",
       "\t& identity & identity & identity & identity & identity & identity & identity & identity\\\\\n",
       "\t\\hline\n",
       "\t& Int64? & String? & Any & Any & Any & Any & Any & Any\\\\\n",
       "\t\\hline\n",
       "\t1 & 1 & b & 1 & 1 & None & None & None & None \\\\\n",
       "\t2 & 1 & c & 1 & 1 & None & None & None & None \\\\\n",
       "\t3 & 1 & d & 1 & 2 & None & None & None & None \\\\\n",
       "\t4 & 2 & b & None & None & 1 & 2 & None & None \\\\\n",
       "\t5 & 2 & c & None & None & 1 & 1 & None & None \\\\\n",
       "\t6 & 2 & d & None & None & 3 & 4 & None & None \\\\\n",
       "\t7 & 3 & b & None & None & None & None & 2 & 2 \\\\\n",
       "\t8 & 3 & c & None & None & None & None & 1 & 1 \\\\\n",
       "\t9 & 3 & d & None & None & None & None & 5 & 6 \\\\\n",
       "\\end{tabular}\n"
      ],
      "text/plain": [
       "\u001b[1m9×8 Dataset\u001b[0m\n",
       "\u001b[1m Row \u001b[0m│\u001b[1m group    \u001b[0m\u001b[1m _variables_ \u001b[0m\u001b[1m a        \u001b[0m\u001b[1m b        \u001b[0m\u001b[1m c        \u001b[0m\u001b[1m d        \u001b[0m\u001b[1m e       \u001b[0m ⋯\n",
       "\u001b[1m     \u001b[0m│\u001b[90m identity \u001b[0m\u001b[90m identity    \u001b[0m\u001b[90m identity \u001b[0m\u001b[90m identity \u001b[0m\u001b[90m identity \u001b[0m\u001b[90m identity \u001b[0m\u001b[90m identity\u001b[0m ⋯\n",
       "\u001b[1m     \u001b[0m│\u001b[90m Int64?   \u001b[0m\u001b[90m String?     \u001b[0m\u001b[90m Any      \u001b[0m\u001b[90m Any      \u001b[0m\u001b[90m Any      \u001b[0m\u001b[90m Any      \u001b[0m\u001b[90m Any     \u001b[0m ⋯\n",
       "─────┼──────────────────────────────────────────────────────────────────────────\n",
       "   1 │        1  b            1         1         None      None      None     ⋯\n",
       "   2 │        1  c            1         1         None      None      None\n",
       "   3 │        1  d            1         2         None      None      None\n",
       "   4 │        2  b            None      None      1         2         None\n",
       "   5 │        2  c            None      None      1         1         None     ⋯\n",
       "   6 │        2  d            None      None      3         4         None\n",
       "   7 │        3  b            None      None      None      None      2\n",
       "   8 │        3  c            None      None      None      None      1\n",
       "   9 │        3  d            None      None      None      None      5        ⋯\n",
       "\u001b[36m                                                                1 column omitted\u001b[0m"
      ]
     },
     "execution_count": 23,
     "metadata": {},
     "output_type": "execute_result"
    }
   ],
   "source": [
    "transpose(groupby(ds4,:group),2:4,id = :e, default = \"None\")"
   ]
  },
  {
   "cell_type": "markdown",
   "id": "b5e4b34e",
   "metadata": {},
   "source": [
    "## Advanced options"
   ]
  },
  {
   "cell_type": "markdown",
   "id": "3b875947",
   "metadata": {},
   "source": [
    "### The column selector of the `transpose` function can be also a `Tuple` of column selectors. In this case, InMemoryDatasets does the transposition for each element of the tuple and then horizontally concatenates the output data sets to create a single data set. This provides extra flexibility to the user for reshaping a data set. By default, the `variable_name` is set to `nothing`, when `Tuple` of column selectors is passed as the argument, however, we can supply different names for each element of the `Tuple`.\n",
    "\n",
    "### Since the column names for the output data set can be the same for all elements of the tuple, `transpose` automatically modifies them to make them unique. Nevertheless, by passing `renamecolid`, we can customise the column names."
   ]
  },
  {
   "cell_type": "markdown",
   "id": "4494fc4d",
   "metadata": {},
   "source": [
    "### It seems a little abstract. Let's use an example to understand it, assume we have a dataset"
   ]
  },
  {
   "cell_type": "code",
   "execution_count": 24,
   "id": "c37819e4",
   "metadata": {},
   "outputs": [
    {
     "data": {
      "text/html": [
       "<table class=\"data-set\"><thead><tr><th></th><th>g</th><th>key</th><th>foo</th><th>bar</th></tr><th></th><th>identity</th><th>identity</th><th>identity</th><th>identity</th></tr><tr><th></th><th title=\"Union{Missing, Int64}\">Int64?</th><th title=\"Union{Missing, String}\">String?</th><th title=\"Union{Missing, String}\">String?</th><th title=\"Union{Missing, Int64}\">Int64?</th></tr></thead><tbody><p>6 rows × 4 columns</p><tr><th>1</th><td>1</td><td>foo</td><td>a</td><td>1</td></tr><tr><th>2</th><td>1</td><td>bar</td><td>b</td><td>2</td></tr><tr><th>3</th><td>1</td><td>monty</td><td>c</td><td>3</td></tr><tr><th>4</th><td>2</td><td>foo</td><td>d</td><td>4</td></tr><tr><th>5</th><td>2</td><td>bar</td><td>e</td><td>5</td></tr><tr><th>6</th><td>2</td><td>monty</td><td>f</td><td>6</td></tr></tbody></table>"
      ],
      "text/latex": [
       "\\begin{tabular}{r|cccc}\n",
       "\t& g & key & foo & bar\\\\\n",
       "\t\\hline\n",
       "\t& identity & identity & identity & identity\\\\\n",
       "\t\\hline\n",
       "\t& Int64? & String? & String? & Int64?\\\\\n",
       "\t\\hline\n",
       "\t1 & 1 & foo & a & 1 \\\\\n",
       "\t2 & 1 & bar & b & 2 \\\\\n",
       "\t3 & 1 & monty & c & 3 \\\\\n",
       "\t4 & 2 & foo & d & 4 \\\\\n",
       "\t5 & 2 & bar & e & 5 \\\\\n",
       "\t6 & 2 & monty & f & 6 \\\\\n",
       "\\end{tabular}\n"
      ],
      "text/plain": [
       "\u001b[1m6×4 Dataset\u001b[0m\n",
       "\u001b[1m Row \u001b[0m│\u001b[1m g        \u001b[0m\u001b[1m key      \u001b[0m\u001b[1m foo      \u001b[0m\u001b[1m bar      \u001b[0m\n",
       "\u001b[1m     \u001b[0m│\u001b[90m identity \u001b[0m\u001b[90m identity \u001b[0m\u001b[90m identity \u001b[0m\u001b[90m identity \u001b[0m\n",
       "\u001b[1m     \u001b[0m│\u001b[90m Int64?   \u001b[0m\u001b[90m String?  \u001b[0m\u001b[90m String?  \u001b[0m\u001b[90m Int64?   \u001b[0m\n",
       "─────┼────────────────────────────────────────\n",
       "   1 │        1  foo       a                1\n",
       "   2 │        1  bar       b                2\n",
       "   3 │        1  monty     c                3\n",
       "   4 │        2  foo       d                4\n",
       "   5 │        2  bar       e                5\n",
       "   6 │        2  monty     f                6"
      ]
     },
     "execution_count": 24,
     "metadata": {},
     "output_type": "execute_result"
    }
   ],
   "source": [
    "ds5 = Dataset([[1, 1, 1, 2, 2, 2],\n",
    "                        [\"foo\", \"bar\", \"monty\", \"foo\", \"bar\", \"monty\"],\n",
    "                        [\"a\", \"b\", \"c\", \"d\", \"e\", \"f\"],\n",
    "                        [1, 2, 3, 4, 5, 6]], [:g, :key, :foo, :bar])"
   ]
  },
  {
   "cell_type": "markdown",
   "id": "b1c29c63",
   "metadata": {},
   "source": [
    "### First, we just group the data set based on column g"
   ]
  },
  {
   "cell_type": "code",
   "execution_count": 25,
   "id": "af4dc199",
   "metadata": {},
   "outputs": [
    {
     "data": {
      "text/plain": [
       "\u001b[1m6×4 View of Grouped Dataset, Grouped by: g\u001b[0m\n",
       "\u001b[1m g        \u001b[0m\u001b[1m key      \u001b[0m\u001b[1m foo      \u001b[0m\u001b[1m bar      \u001b[0m\n",
       "\u001b[90m identity \u001b[0m\u001b[90m identity \u001b[0m\u001b[90m identity \u001b[0m\u001b[90m identity \u001b[0m\n",
       "\u001b[90m Int64?   \u001b[0m\u001b[90m String?  \u001b[0m\u001b[90m String?  \u001b[0m\u001b[90m Int64?   \u001b[0m\n",
       "────────────────────────────────────────\n",
       "        1  foo       a                1\n",
       "        1  bar       b                2\n",
       "        1  monty     c                3\n",
       "        2  foo       d                4\n",
       "        2  bar       e                5\n",
       "        2  monty     f                6"
      ]
     },
     "execution_count": 25,
     "metadata": {},
     "output_type": "execute_result"
    }
   ],
   "source": [
    "groupby(ds5,:g)"
   ]
  },
  {
   "cell_type": "markdown",
   "id": "e052a43c",
   "metadata": {},
   "source": [
    "### And then we transpose it, and use column key for the column name."
   ]
  },
  {
   "cell_type": "code",
   "execution_count": 26,
   "id": "2edc1558",
   "metadata": {},
   "outputs": [
    {
     "data": {
      "text/html": [
       "<table class=\"data-set\"><thead><tr><th></th><th>g</th><th>_variables_</th><th>foo</th><th>bar</th><th>monty</th></tr><th></th><th>identity</th><th>identity</th><th>identity</th><th>identity</th><th>identity</th></tr><tr><th></th><th title=\"Union{Missing, Int64}\">Int64?</th><th title=\"Union{Missing, String}\">String?</th><th title=\"Any\">Any</th><th title=\"Any\">Any</th><th title=\"Any\">Any</th></tr></thead><tbody><p>4 rows × 5 columns</p><tr><th>1</th><td>1</td><td>foo</td><td>a</td><td>b</td><td>c</td></tr><tr><th>2</th><td>1</td><td>bar</td><td>1</td><td>2</td><td>3</td></tr><tr><th>3</th><td>2</td><td>foo</td><td>d</td><td>e</td><td>f</td></tr><tr><th>4</th><td>2</td><td>bar</td><td>4</td><td>5</td><td>6</td></tr></tbody></table>"
      ],
      "text/latex": [
       "\\begin{tabular}{r|ccccc}\n",
       "\t& g & \\_variables\\_ & foo & bar & monty\\\\\n",
       "\t\\hline\n",
       "\t& identity & identity & identity & identity & identity\\\\\n",
       "\t\\hline\n",
       "\t& Int64? & String? & Any & Any & Any\\\\\n",
       "\t\\hline\n",
       "\t1 & 1 & foo & a & b & c \\\\\n",
       "\t2 & 1 & bar & 1 & 2 & 3 \\\\\n",
       "\t3 & 2 & foo & d & e & f \\\\\n",
       "\t4 & 2 & bar & 4 & 5 & 6 \\\\\n",
       "\\end{tabular}\n"
      ],
      "text/plain": [
       "\u001b[1m4×5 Dataset\u001b[0m\n",
       "\u001b[1m Row \u001b[0m│\u001b[1m g        \u001b[0m\u001b[1m _variables_ \u001b[0m\u001b[1m foo      \u001b[0m\u001b[1m bar      \u001b[0m\u001b[1m monty    \u001b[0m\n",
       "\u001b[1m     \u001b[0m│\u001b[90m identity \u001b[0m\u001b[90m identity    \u001b[0m\u001b[90m identity \u001b[0m\u001b[90m identity \u001b[0m\u001b[90m identity \u001b[0m\n",
       "\u001b[1m     \u001b[0m│\u001b[90m Int64?   \u001b[0m\u001b[90m String?     \u001b[0m\u001b[90m Any      \u001b[0m\u001b[90m Any      \u001b[0m\u001b[90m Any      \u001b[0m\n",
       "─────┼─────────────────────────────────────────────────────\n",
       "   1 │        1  foo          a         b         c\n",
       "   2 │        1  bar          1         2         3\n",
       "   3 │        2  foo          d         e         f\n",
       "   4 │        2  bar          4         5         6"
      ]
     },
     "execution_count": 26,
     "metadata": {},
     "output_type": "execute_result"
    }
   ],
   "source": [
    "transpose(groupby(ds5,:g),3:4,id = :key)"
   ]
  },
  {
   "cell_type": "markdown",
   "id": "3cc00925",
   "metadata": {},
   "source": [
    "### Then, as I mentioned before, we use a tuple as the input of the column selector."
   ]
  },
  {
   "cell_type": "code",
   "execution_count": 27,
   "id": "47220840",
   "metadata": {},
   "outputs": [
    {
     "data": {
      "text/html": [
       "<table class=\"data-set\"><thead><tr><th></th><th>g</th><th>foo</th><th>bar</th><th>monty</th><th>foo_1</th><th>bar_1</th><th>monty_1</th></tr><th></th><th>identity</th><th>identity</th><th>identity</th><th>identity</th><th>identity</th><th>identity</th><th>identity</th></tr><tr><th></th><th title=\"Union{Missing, Int64}\">Int64?</th><th title=\"Union{Missing, String}\">String?</th><th title=\"Union{Missing, String}\">String?</th><th title=\"Union{Missing, String}\">String?</th><th title=\"Union{Missing, Int64}\">Int64?</th><th title=\"Union{Missing, Int64}\">Int64?</th><th title=\"Union{Missing, Int64}\">Int64?</th></tr></thead><tbody><p>2 rows × 7 columns</p><tr><th>1</th><td>1</td><td>a</td><td>b</td><td>c</td><td>1</td><td>2</td><td>3</td></tr><tr><th>2</th><td>2</td><td>d</td><td>e</td><td>f</td><td>4</td><td>5</td><td>6</td></tr></tbody></table>"
      ],
      "text/latex": [
       "\\begin{tabular}{r|ccccccc}\n",
       "\t& g & foo & bar & monty & foo\\_1 & bar\\_1 & monty\\_1\\\\\n",
       "\t\\hline\n",
       "\t& identity & identity & identity & identity & identity & identity & identity\\\\\n",
       "\t\\hline\n",
       "\t& Int64? & String? & String? & String? & Int64? & Int64? & Int64?\\\\\n",
       "\t\\hline\n",
       "\t1 & 1 & a & b & c & 1 & 2 & 3 \\\\\n",
       "\t2 & 2 & d & e & f & 4 & 5 & 6 \\\\\n",
       "\\end{tabular}\n"
      ],
      "text/plain": [
       "\u001b[1m2×7 Dataset\u001b[0m\n",
       "\u001b[1m Row \u001b[0m│\u001b[1m g        \u001b[0m\u001b[1m foo      \u001b[0m\u001b[1m bar      \u001b[0m\u001b[1m monty    \u001b[0m\u001b[1m foo_1    \u001b[0m\u001b[1m bar_1    \u001b[0m\u001b[1m monty_1  \u001b[0m\n",
       "\u001b[1m     \u001b[0m│\u001b[90m identity \u001b[0m\u001b[90m identity \u001b[0m\u001b[90m identity \u001b[0m\u001b[90m identity \u001b[0m\u001b[90m identity \u001b[0m\u001b[90m identity \u001b[0m\u001b[90m identity \u001b[0m\n",
       "\u001b[1m     \u001b[0m│\u001b[90m Int64?   \u001b[0m\u001b[90m String?  \u001b[0m\u001b[90m String?  \u001b[0m\u001b[90m String?  \u001b[0m\u001b[90m Int64?   \u001b[0m\u001b[90m Int64?   \u001b[0m\u001b[90m Int64?   \u001b[0m\n",
       "─────┼──────────────────────────────────────────────────────────────────────\n",
       "   1 │        1  a         b         c                1         2         3\n",
       "   2 │        2  d         e         f                4         5         6"
      ]
     },
     "execution_count": 27,
     "metadata": {},
     "output_type": "execute_result"
    }
   ],
   "source": [
    "transpose(groupby(ds5,:g),(:foo,:bar),id = :key)"
   ]
  },
  {
   "cell_type": "markdown",
   "id": "be9b22f5",
   "metadata": {},
   "source": [
    "### From the result, the `transpose` horizontally concatenates the output data sets to create a single data set."
   ]
  },
  {
   "cell_type": "markdown",
   "id": "10711d35",
   "metadata": {},
   "source": [
    "### The `renamecolid` function can also get access to the variable names from the input data set as the second argument. This can be used to generate even more customised column names for the output data set."
   ]
  },
  {
   "cell_type": "markdown",
   "id": "ec40fc46",
   "metadata": {},
   "source": [
    "### Let's use the example above to explain this:"
   ]
  },
  {
   "cell_type": "code",
   "execution_count": 28,
   "id": "e5a2f81a",
   "metadata": {},
   "outputs": [
    {
     "data": {
      "text/html": [
       "<table class=\"data-set\"><thead><tr><th></th><th>g</th><th>foo_[&quot;foo&quot;]</th><th>bar_[&quot;foo&quot;]</th><th>monty_[&quot;foo&quot;]</th><th>foo_[&quot;bar&quot;]</th><th>bar_[&quot;bar&quot;]</th><th>monty_[&quot;bar&quot;]</th></tr><th></th><th>identity</th><th>identity</th><th>identity</th><th>identity</th><th>identity</th><th>identity</th><th>identity</th></tr><tr><th></th><th title=\"Union{Missing, Int64}\">Int64?</th><th title=\"Union{Missing, String}\">String?</th><th title=\"Union{Missing, String}\">String?</th><th title=\"Union{Missing, String}\">String?</th><th title=\"Union{Missing, Int64}\">Int64?</th><th title=\"Union{Missing, Int64}\">Int64?</th><th title=\"Union{Missing, Int64}\">Int64?</th></tr></thead><tbody><p>2 rows × 7 columns</p><tr><th>1</th><td>1</td><td>a</td><td>b</td><td>c</td><td>1</td><td>2</td><td>3</td></tr><tr><th>2</th><td>2</td><td>d</td><td>e</td><td>f</td><td>4</td><td>5</td><td>6</td></tr></tbody></table>"
      ],
      "text/latex": [
       "\\begin{tabular}{r|ccccccc}\n",
       "\t& g & foo\\_[\"foo\"] & bar\\_[\"foo\"] & monty\\_[\"foo\"] & foo\\_[\"bar\"] & bar\\_[\"bar\"] & monty\\_[\"bar\"]\\\\\n",
       "\t\\hline\n",
       "\t& identity & identity & identity & identity & identity & identity & identity\\\\\n",
       "\t\\hline\n",
       "\t& Int64? & String? & String? & String? & Int64? & Int64? & Int64?\\\\\n",
       "\t\\hline\n",
       "\t1 & 1 & a & b & c & 1 & 2 & 3 \\\\\n",
       "\t2 & 2 & d & e & f & 4 & 5 & 6 \\\\\n",
       "\\end{tabular}\n"
      ],
      "text/plain": [
       "\u001b[1m2×7 Dataset\u001b[0m\n",
       "\u001b[1m Row \u001b[0m│\u001b[1m g        \u001b[0m\u001b[1m foo_[\"foo\"] \u001b[0m\u001b[1m bar_[\"foo\"] \u001b[0m\u001b[1m monty_[\"foo\"] \u001b[0m\u001b[1m foo_[\"bar\"] \u001b[0m\u001b[1m bar_[\"b\u001b[0m ⋯\n",
       "\u001b[1m     \u001b[0m│\u001b[90m identity \u001b[0m\u001b[90m identity    \u001b[0m\u001b[90m identity    \u001b[0m\u001b[90m identity      \u001b[0m\u001b[90m identity    \u001b[0m\u001b[90m identit\u001b[0m ⋯\n",
       "\u001b[1m     \u001b[0m│\u001b[90m Int64?   \u001b[0m\u001b[90m String?     \u001b[0m\u001b[90m String?     \u001b[0m\u001b[90m String?       \u001b[0m\u001b[90m Int64?      \u001b[0m\u001b[90m Int64? \u001b[0m ⋯\n",
       "─────┼──────────────────────────────────────────────────────────────────────────\n",
       "   1 │        1  a            b            c                        1          ⋯\n",
       "   2 │        2  d            e            f                        4\n",
       "\u001b[36m                                                               2 columns omitted\u001b[0m"
      ]
     },
     "execution_count": 28,
     "metadata": {},
     "output_type": "execute_result"
    }
   ],
   "source": [
    "transpose(groupby(ds5,:g),(:foo,:bar), id = :key, renamecolid = (x,y) -> string(x,\"_\",y))"
   ]
  },
  {
   "cell_type": "markdown",
   "id": "d126a3f4",
   "metadata": {},
   "source": [
    "### From the result, we can see the name of each column has been changed through `renamecolid`."
   ]
  },
  {
   "cell_type": "markdown",
   "id": "60ac905e",
   "metadata": {},
   "source": [
    "### From the above explanation, I believe you can have a comprehensive understanding of this function. If you still have doubts about it, you can find relevant content on InMemoryDatasets official documents at any time. Thank you for watching this video, see you next time."
   ]
  }
 ],
 "metadata": {
  "celltoolbar": "原始单元格格式",
  "kernelspec": {
   "display_name": "Julia 1.8.2",
   "language": "julia",
   "name": "julia-1.8"
  },
  "language_info": {
   "file_extension": ".jl",
   "mimetype": "application/julia",
   "name": "julia",
   "version": "1.8.2"
  }
 },
 "nbformat": 4,
 "nbformat_minor": 5
}
